{
 "cells": [
  {
   "cell_type": "markdown",
   "metadata": {},
   "source": [
    "# DPhi\n",
    "\n",
    "### Data Sprint #3: Abalone\n",
    "##### Predict the age of Abalone from physical measurements\n",
    "\n",
    "\n",
    "https://dphi.tech/practice/challenge/25\n",
    "\n",
    "\n",
    "**Prepared by : Jyothish Kumar C G**\n",
    "\n",
    "As part of the experimental learning, I have tried different ML models and explored a bit on Cross Validation and Hyper Parameter Tuning. \n",
    "\n",
    "**ML Models Tried**\n",
    "\n",
    "1) Linear Regression\n",
    "2) Ridge Regression\n",
    "3) Lasso Regression\n",
    "4) RandomForest Regressor\n",
    "\n",
    "\n",
    "\n"
   ]
  },
  {
   "cell_type": "code",
   "execution_count": 1,
   "metadata": {},
   "outputs": [],
   "source": [
    "import numpy as np\n",
    "import pandas as pd\n",
    "import matplotlib.pyplot as plt\n",
    "import seaborn as sns"
   ]
  },
  {
   "cell_type": "code",
   "execution_count": 2,
   "metadata": {},
   "outputs": [],
   "source": [
    "train_data  = pd.read_csv(\"https://raw.githubusercontent.com/dphi-official/Datasets/master/abalone_data/training_set_label.csv\" )\n",
    "\n",
    "test_data = pd.read_csv('https://raw.githubusercontent.com/dphi-official/Datasets/master/abalone_data/testing_set_label.csv')"
   ]
  },
  {
   "cell_type": "code",
   "execution_count": 3,
   "metadata": {},
   "outputs": [
    {
     "data": {
      "text/html": [
       "<div>\n",
       "<style scoped>\n",
       "    .dataframe tbody tr th:only-of-type {\n",
       "        vertical-align: middle;\n",
       "    }\n",
       "\n",
       "    .dataframe tbody tr th {\n",
       "        vertical-align: top;\n",
       "    }\n",
       "\n",
       "    .dataframe thead th {\n",
       "        text-align: right;\n",
       "    }\n",
       "</style>\n",
       "<table border=\"1\" class=\"dataframe\">\n",
       "  <thead>\n",
       "    <tr style=\"text-align: right;\">\n",
       "      <th></th>\n",
       "      <th>Sex</th>\n",
       "      <th>Length</th>\n",
       "      <th>Diameter</th>\n",
       "      <th>Height</th>\n",
       "      <th>Whole weight</th>\n",
       "      <th>Shucked weight</th>\n",
       "      <th>Viscera weight</th>\n",
       "      <th>Shell weight</th>\n",
       "      <th>Rings</th>\n",
       "    </tr>\n",
       "  </thead>\n",
       "  <tbody>\n",
       "    <tr>\n",
       "      <th>0</th>\n",
       "      <td>F</td>\n",
       "      <td>0.525</td>\n",
       "      <td>0.400</td>\n",
       "      <td>0.135</td>\n",
       "      <td>0.7140</td>\n",
       "      <td>0.3180</td>\n",
       "      <td>0.1380</td>\n",
       "      <td>0.208</td>\n",
       "      <td>10</td>\n",
       "    </tr>\n",
       "    <tr>\n",
       "      <th>1</th>\n",
       "      <td>F</td>\n",
       "      <td>0.445</td>\n",
       "      <td>0.325</td>\n",
       "      <td>0.125</td>\n",
       "      <td>0.4550</td>\n",
       "      <td>0.1785</td>\n",
       "      <td>0.1125</td>\n",
       "      <td>0.140</td>\n",
       "      <td>9</td>\n",
       "    </tr>\n",
       "    <tr>\n",
       "      <th>2</th>\n",
       "      <td>M</td>\n",
       "      <td>0.710</td>\n",
       "      <td>0.540</td>\n",
       "      <td>0.165</td>\n",
       "      <td>1.9590</td>\n",
       "      <td>0.7665</td>\n",
       "      <td>0.2610</td>\n",
       "      <td>0.780</td>\n",
       "      <td>18</td>\n",
       "    </tr>\n",
       "    <tr>\n",
       "      <th>3</th>\n",
       "      <td>F</td>\n",
       "      <td>0.680</td>\n",
       "      <td>0.580</td>\n",
       "      <td>0.200</td>\n",
       "      <td>1.7870</td>\n",
       "      <td>0.5850</td>\n",
       "      <td>0.4530</td>\n",
       "      <td>0.600</td>\n",
       "      <td>19</td>\n",
       "    </tr>\n",
       "    <tr>\n",
       "      <th>4</th>\n",
       "      <td>M</td>\n",
       "      <td>0.605</td>\n",
       "      <td>0.470</td>\n",
       "      <td>0.160</td>\n",
       "      <td>1.1735</td>\n",
       "      <td>0.4975</td>\n",
       "      <td>0.2405</td>\n",
       "      <td>0.345</td>\n",
       "      <td>12</td>\n",
       "    </tr>\n",
       "  </tbody>\n",
       "</table>\n",
       "</div>"
      ],
      "text/plain": [
       "  Sex  Length  Diameter  Height  Whole weight  Shucked weight  Viscera weight  \\\n",
       "0   F   0.525     0.400   0.135        0.7140          0.3180          0.1380   \n",
       "1   F   0.445     0.325   0.125        0.4550          0.1785          0.1125   \n",
       "2   M   0.710     0.540   0.165        1.9590          0.7665          0.2610   \n",
       "3   F   0.680     0.580   0.200        1.7870          0.5850          0.4530   \n",
       "4   M   0.605     0.470   0.160        1.1735          0.4975          0.2405   \n",
       "\n",
       "   Shell weight  Rings  \n",
       "0         0.208     10  \n",
       "1         0.140      9  \n",
       "2         0.780     18  \n",
       "3         0.600     19  \n",
       "4         0.345     12  "
      ]
     },
     "execution_count": 3,
     "metadata": {},
     "output_type": "execute_result"
    }
   ],
   "source": [
    "train_data.head(5)"
   ]
  },
  {
   "cell_type": "code",
   "execution_count": 4,
   "metadata": {},
   "outputs": [
    {
     "name": "stdout",
     "output_type": "stream",
     "text": [
      "<class 'pandas.core.frame.DataFrame'>\n",
      "RangeIndex: 3132 entries, 0 to 3131\n",
      "Data columns (total 9 columns):\n",
      " #   Column          Non-Null Count  Dtype  \n",
      "---  ------          --------------  -----  \n",
      " 0   Sex             3132 non-null   object \n",
      " 1   Length          3132 non-null   float64\n",
      " 2   Diameter        3132 non-null   float64\n",
      " 3   Height          3132 non-null   float64\n",
      " 4   Whole weight    3132 non-null   float64\n",
      " 5   Shucked weight  3132 non-null   float64\n",
      " 6   Viscera weight  3132 non-null   float64\n",
      " 7   Shell weight    3132 non-null   float64\n",
      " 8   Rings           3132 non-null   int64  \n",
      "dtypes: float64(7), int64(1), object(1)\n",
      "memory usage: 220.3+ KB\n"
     ]
    }
   ],
   "source": [
    "train_data.info()"
   ]
  },
  {
   "cell_type": "code",
   "execution_count": 5,
   "metadata": {},
   "outputs": [
    {
     "data": {
      "text/plain": [
       "Sex               0\n",
       "Length            0\n",
       "Diameter          0\n",
       "Height            0\n",
       "Whole weight      0\n",
       "Shucked weight    0\n",
       "Viscera weight    0\n",
       "Shell weight      0\n",
       "Rings             0\n",
       "dtype: int64"
      ]
     },
     "execution_count": 5,
     "metadata": {},
     "output_type": "execute_result"
    }
   ],
   "source": [
    "train_data.isna().sum()"
   ]
  },
  {
   "cell_type": "code",
   "execution_count": 6,
   "metadata": {},
   "outputs": [
    {
     "data": {
      "text/plain": [
       "M    1138\n",
       "I    1013\n",
       "F     981\n",
       "Name: Sex, dtype: int64"
      ]
     },
     "execution_count": 6,
     "metadata": {},
     "output_type": "execute_result"
    }
   ],
   "source": [
    "train_data.Sex.value_counts()"
   ]
  },
  {
   "cell_type": "code",
   "execution_count": 7,
   "metadata": {},
   "outputs": [
    {
     "data": {
      "text/html": [
       "<div>\n",
       "<style scoped>\n",
       "    .dataframe tbody tr th:only-of-type {\n",
       "        vertical-align: middle;\n",
       "    }\n",
       "\n",
       "    .dataframe tbody tr th {\n",
       "        vertical-align: top;\n",
       "    }\n",
       "\n",
       "    .dataframe thead th {\n",
       "        text-align: right;\n",
       "    }\n",
       "</style>\n",
       "<table border=\"1\" class=\"dataframe\">\n",
       "  <thead>\n",
       "    <tr style=\"text-align: right;\">\n",
       "      <th></th>\n",
       "      <th>Length</th>\n",
       "      <th>Diameter</th>\n",
       "      <th>Height</th>\n",
       "      <th>Whole weight</th>\n",
       "      <th>Shucked weight</th>\n",
       "      <th>Viscera weight</th>\n",
       "      <th>Shell weight</th>\n",
       "      <th>Rings</th>\n",
       "    </tr>\n",
       "  </thead>\n",
       "  <tbody>\n",
       "    <tr>\n",
       "      <th>count</th>\n",
       "      <td>3132.000000</td>\n",
       "      <td>3132.000000</td>\n",
       "      <td>3132.000000</td>\n",
       "      <td>3132.00000</td>\n",
       "      <td>3132.000000</td>\n",
       "      <td>3132.000000</td>\n",
       "      <td>3132.000000</td>\n",
       "      <td>3132.000000</td>\n",
       "    </tr>\n",
       "    <tr>\n",
       "      <th>mean</th>\n",
       "      <td>0.523707</td>\n",
       "      <td>0.407952</td>\n",
       "      <td>0.139277</td>\n",
       "      <td>0.82867</td>\n",
       "      <td>0.359229</td>\n",
       "      <td>0.180731</td>\n",
       "      <td>0.239159</td>\n",
       "      <td>9.947957</td>\n",
       "    </tr>\n",
       "    <tr>\n",
       "      <th>std</th>\n",
       "      <td>0.119891</td>\n",
       "      <td>0.099336</td>\n",
       "      <td>0.038991</td>\n",
       "      <td>0.49063</td>\n",
       "      <td>0.221946</td>\n",
       "      <td>0.109924</td>\n",
       "      <td>0.139040</td>\n",
       "      <td>3.230252</td>\n",
       "    </tr>\n",
       "    <tr>\n",
       "      <th>min</th>\n",
       "      <td>0.110000</td>\n",
       "      <td>0.090000</td>\n",
       "      <td>0.000000</td>\n",
       "      <td>0.00800</td>\n",
       "      <td>0.002500</td>\n",
       "      <td>0.000500</td>\n",
       "      <td>0.003000</td>\n",
       "      <td>2.000000</td>\n",
       "    </tr>\n",
       "    <tr>\n",
       "      <th>25%</th>\n",
       "      <td>0.450000</td>\n",
       "      <td>0.350000</td>\n",
       "      <td>0.115000</td>\n",
       "      <td>0.44150</td>\n",
       "      <td>0.185375</td>\n",
       "      <td>0.093375</td>\n",
       "      <td>0.130000</td>\n",
       "      <td>8.000000</td>\n",
       "    </tr>\n",
       "    <tr>\n",
       "      <th>50%</th>\n",
       "      <td>0.545000</td>\n",
       "      <td>0.425000</td>\n",
       "      <td>0.140000</td>\n",
       "      <td>0.79950</td>\n",
       "      <td>0.335500</td>\n",
       "      <td>0.170000</td>\n",
       "      <td>0.235000</td>\n",
       "      <td>10.000000</td>\n",
       "    </tr>\n",
       "    <tr>\n",
       "      <th>75%</th>\n",
       "      <td>0.615000</td>\n",
       "      <td>0.480000</td>\n",
       "      <td>0.165000</td>\n",
       "      <td>1.15300</td>\n",
       "      <td>0.499500</td>\n",
       "      <td>0.252500</td>\n",
       "      <td>0.330000</td>\n",
       "      <td>11.000000</td>\n",
       "    </tr>\n",
       "    <tr>\n",
       "      <th>max</th>\n",
       "      <td>0.815000</td>\n",
       "      <td>0.650000</td>\n",
       "      <td>0.515000</td>\n",
       "      <td>2.82550</td>\n",
       "      <td>1.488000</td>\n",
       "      <td>0.760000</td>\n",
       "      <td>1.005000</td>\n",
       "      <td>29.000000</td>\n",
       "    </tr>\n",
       "  </tbody>\n",
       "</table>\n",
       "</div>"
      ],
      "text/plain": [
       "            Length     Diameter       Height  Whole weight  Shucked weight  \\\n",
       "count  3132.000000  3132.000000  3132.000000    3132.00000     3132.000000   \n",
       "mean      0.523707     0.407952     0.139277       0.82867        0.359229   \n",
       "std       0.119891     0.099336     0.038991       0.49063        0.221946   \n",
       "min       0.110000     0.090000     0.000000       0.00800        0.002500   \n",
       "25%       0.450000     0.350000     0.115000       0.44150        0.185375   \n",
       "50%       0.545000     0.425000     0.140000       0.79950        0.335500   \n",
       "75%       0.615000     0.480000     0.165000       1.15300        0.499500   \n",
       "max       0.815000     0.650000     0.515000       2.82550        1.488000   \n",
       "\n",
       "       Viscera weight  Shell weight        Rings  \n",
       "count     3132.000000   3132.000000  3132.000000  \n",
       "mean         0.180731      0.239159     9.947957  \n",
       "std          0.109924      0.139040     3.230252  \n",
       "min          0.000500      0.003000     2.000000  \n",
       "25%          0.093375      0.130000     8.000000  \n",
       "50%          0.170000      0.235000    10.000000  \n",
       "75%          0.252500      0.330000    11.000000  \n",
       "max          0.760000      1.005000    29.000000  "
      ]
     },
     "execution_count": 7,
     "metadata": {},
     "output_type": "execute_result"
    }
   ],
   "source": [
    "train_data.describe()"
   ]
  },
  {
   "cell_type": "code",
   "execution_count": 8,
   "metadata": {},
   "outputs": [],
   "source": [
    "from pandas_profiling import ProfileReport"
   ]
  },
  {
   "cell_type": "code",
   "execution_count": 9,
   "metadata": {},
   "outputs": [
    {
     "data": {
      "application/vnd.jupyter.widget-view+json": {
       "model_id": "30c2c42401754b059bbff2052d2c3357",
       "version_major": 2,
       "version_minor": 0
      },
      "text/plain": [
       "HBox(children=(FloatProgress(value=0.0, description='Summarize dataset', max=23.0, style=ProgressStyle(descrip…"
      ]
     },
     "metadata": {},
     "output_type": "display_data"
    },
    {
     "name": "stdout",
     "output_type": "stream",
     "text": [
      "\n"
     ]
    },
    {
     "data": {
      "application/vnd.jupyter.widget-view+json": {
       "model_id": "13e546aeba6c4362ace8c32689cd042e",
       "version_major": 2,
       "version_minor": 0
      },
      "text/plain": [
       "HBox(children=(FloatProgress(value=0.0, description='Generate report structure', max=1.0, style=ProgressStyle(…"
      ]
     },
     "metadata": {},
     "output_type": "display_data"
    },
    {
     "name": "stdout",
     "output_type": "stream",
     "text": [
      "\n"
     ]
    },
    {
     "data": {
      "application/vnd.jupyter.widget-view+json": {
       "model_id": "74dbd19084f4427ba8545a50837dae60",
       "version_major": 2,
       "version_minor": 0
      },
      "text/plain": [
       "HBox(children=(FloatProgress(value=0.0, description='Render HTML', max=1.0, style=ProgressStyle(description_wi…"
      ]
     },
     "metadata": {},
     "output_type": "display_data"
    },
    {
     "name": "stdout",
     "output_type": "stream",
     "text": [
      "\n"
     ]
    },
    {
     "data": {
      "application/vnd.jupyter.widget-view+json": {
       "model_id": "6706e8bbbeed48efb21cd19fda7e8c29",
       "version_major": 2,
       "version_minor": 0
      },
      "text/plain": [
       "HBox(children=(FloatProgress(value=0.0, description='Export report to file', max=1.0, style=ProgressStyle(desc…"
      ]
     },
     "metadata": {},
     "output_type": "display_data"
    },
    {
     "name": "stdout",
     "output_type": "stream",
     "text": [
      "\n"
     ]
    }
   ],
   "source": [
    "design_report = ProfileReport(train_data)\n",
    "design_report.to_file(output_file = 'Abalone_EDA.html')"
   ]
  },
  {
   "cell_type": "markdown",
   "metadata": {},
   "source": [
    "#### Converting Categorical Features to Numerical Features"
   ]
  },
  {
   "cell_type": "code",
   "execution_count": 10,
   "metadata": {},
   "outputs": [
    {
     "data": {
      "text/html": [
       "<div>\n",
       "<style scoped>\n",
       "    .dataframe tbody tr th:only-of-type {\n",
       "        vertical-align: middle;\n",
       "    }\n",
       "\n",
       "    .dataframe tbody tr th {\n",
       "        vertical-align: top;\n",
       "    }\n",
       "\n",
       "    .dataframe thead th {\n",
       "        text-align: right;\n",
       "    }\n",
       "</style>\n",
       "<table border=\"1\" class=\"dataframe\">\n",
       "  <thead>\n",
       "    <tr style=\"text-align: right;\">\n",
       "      <th></th>\n",
       "      <th>Gender_F</th>\n",
       "      <th>Gender_I</th>\n",
       "      <th>Gender_M</th>\n",
       "    </tr>\n",
       "  </thead>\n",
       "  <tbody>\n",
       "    <tr>\n",
       "      <th>0</th>\n",
       "      <td>1</td>\n",
       "      <td>0</td>\n",
       "      <td>0</td>\n",
       "    </tr>\n",
       "    <tr>\n",
       "      <th>1</th>\n",
       "      <td>1</td>\n",
       "      <td>0</td>\n",
       "      <td>0</td>\n",
       "    </tr>\n",
       "    <tr>\n",
       "      <th>2</th>\n",
       "      <td>0</td>\n",
       "      <td>0</td>\n",
       "      <td>1</td>\n",
       "    </tr>\n",
       "    <tr>\n",
       "      <th>3</th>\n",
       "      <td>1</td>\n",
       "      <td>0</td>\n",
       "      <td>0</td>\n",
       "    </tr>\n",
       "    <tr>\n",
       "      <th>4</th>\n",
       "      <td>0</td>\n",
       "      <td>0</td>\n",
       "      <td>1</td>\n",
       "    </tr>\n",
       "    <tr>\n",
       "      <th>...</th>\n",
       "      <td>...</td>\n",
       "      <td>...</td>\n",
       "      <td>...</td>\n",
       "    </tr>\n",
       "    <tr>\n",
       "      <th>3127</th>\n",
       "      <td>0</td>\n",
       "      <td>0</td>\n",
       "      <td>1</td>\n",
       "    </tr>\n",
       "    <tr>\n",
       "      <th>3128</th>\n",
       "      <td>0</td>\n",
       "      <td>1</td>\n",
       "      <td>0</td>\n",
       "    </tr>\n",
       "    <tr>\n",
       "      <th>3129</th>\n",
       "      <td>0</td>\n",
       "      <td>0</td>\n",
       "      <td>1</td>\n",
       "    </tr>\n",
       "    <tr>\n",
       "      <th>3130</th>\n",
       "      <td>0</td>\n",
       "      <td>0</td>\n",
       "      <td>1</td>\n",
       "    </tr>\n",
       "    <tr>\n",
       "      <th>3131</th>\n",
       "      <td>1</td>\n",
       "      <td>0</td>\n",
       "      <td>0</td>\n",
       "    </tr>\n",
       "  </tbody>\n",
       "</table>\n",
       "<p>3132 rows × 3 columns</p>\n",
       "</div>"
      ],
      "text/plain": [
       "      Gender_F  Gender_I  Gender_M\n",
       "0            1         0         0\n",
       "1            1         0         0\n",
       "2            0         0         1\n",
       "3            1         0         0\n",
       "4            0         0         1\n",
       "...        ...       ...       ...\n",
       "3127         0         0         1\n",
       "3128         0         1         0\n",
       "3129         0         0         1\n",
       "3130         0         0         1\n",
       "3131         1         0         0\n",
       "\n",
       "[3132 rows x 3 columns]"
      ]
     },
     "execution_count": 10,
     "metadata": {},
     "output_type": "execute_result"
    }
   ],
   "source": [
    "gender_cat_to_num_train = pd.get_dummies(train_data.Sex,prefix='Gender')\n",
    "gender_cat_to_num_train"
   ]
  },
  {
   "cell_type": "code",
   "execution_count": 11,
   "metadata": {},
   "outputs": [
    {
     "data": {
      "text/html": [
       "<div>\n",
       "<style scoped>\n",
       "    .dataframe tbody tr th:only-of-type {\n",
       "        vertical-align: middle;\n",
       "    }\n",
       "\n",
       "    .dataframe tbody tr th {\n",
       "        vertical-align: top;\n",
       "    }\n",
       "\n",
       "    .dataframe thead th {\n",
       "        text-align: right;\n",
       "    }\n",
       "</style>\n",
       "<table border=\"1\" class=\"dataframe\">\n",
       "  <thead>\n",
       "    <tr style=\"text-align: right;\">\n",
       "      <th></th>\n",
       "      <th>Gender_F</th>\n",
       "      <th>Gender_I</th>\n",
       "      <th>Gender_M</th>\n",
       "    </tr>\n",
       "  </thead>\n",
       "  <tbody>\n",
       "    <tr>\n",
       "      <th>0</th>\n",
       "      <td>1</td>\n",
       "      <td>0</td>\n",
       "      <td>0</td>\n",
       "    </tr>\n",
       "    <tr>\n",
       "      <th>1</th>\n",
       "      <td>0</td>\n",
       "      <td>1</td>\n",
       "      <td>0</td>\n",
       "    </tr>\n",
       "    <tr>\n",
       "      <th>2</th>\n",
       "      <td>0</td>\n",
       "      <td>1</td>\n",
       "      <td>0</td>\n",
       "    </tr>\n",
       "    <tr>\n",
       "      <th>3</th>\n",
       "      <td>1</td>\n",
       "      <td>0</td>\n",
       "      <td>0</td>\n",
       "    </tr>\n",
       "    <tr>\n",
       "      <th>4</th>\n",
       "      <td>1</td>\n",
       "      <td>0</td>\n",
       "      <td>0</td>\n",
       "    </tr>\n",
       "    <tr>\n",
       "      <th>...</th>\n",
       "      <td>...</td>\n",
       "      <td>...</td>\n",
       "      <td>...</td>\n",
       "    </tr>\n",
       "    <tr>\n",
       "      <th>1039</th>\n",
       "      <td>0</td>\n",
       "      <td>1</td>\n",
       "      <td>0</td>\n",
       "    </tr>\n",
       "    <tr>\n",
       "      <th>1040</th>\n",
       "      <td>0</td>\n",
       "      <td>1</td>\n",
       "      <td>0</td>\n",
       "    </tr>\n",
       "    <tr>\n",
       "      <th>1041</th>\n",
       "      <td>0</td>\n",
       "      <td>1</td>\n",
       "      <td>0</td>\n",
       "    </tr>\n",
       "    <tr>\n",
       "      <th>1042</th>\n",
       "      <td>0</td>\n",
       "      <td>0</td>\n",
       "      <td>1</td>\n",
       "    </tr>\n",
       "    <tr>\n",
       "      <th>1043</th>\n",
       "      <td>0</td>\n",
       "      <td>1</td>\n",
       "      <td>0</td>\n",
       "    </tr>\n",
       "  </tbody>\n",
       "</table>\n",
       "<p>1044 rows × 3 columns</p>\n",
       "</div>"
      ],
      "text/plain": [
       "      Gender_F  Gender_I  Gender_M\n",
       "0            1         0         0\n",
       "1            0         1         0\n",
       "2            0         1         0\n",
       "3            1         0         0\n",
       "4            1         0         0\n",
       "...        ...       ...       ...\n",
       "1039         0         1         0\n",
       "1040         0         1         0\n",
       "1041         0         1         0\n",
       "1042         0         0         1\n",
       "1043         0         1         0\n",
       "\n",
       "[1044 rows x 3 columns]"
      ]
     },
     "execution_count": 11,
     "metadata": {},
     "output_type": "execute_result"
    }
   ],
   "source": [
    "gender_cat_to_num_test = pd.get_dummies(test_data.Sex,prefix='Gender')\n",
    "gender_cat_to_num_test"
   ]
  },
  {
   "cell_type": "code",
   "execution_count": 12,
   "metadata": {},
   "outputs": [],
   "source": [
    "train_data['is_Female'] = gender_cat_to_num_train['Gender_F']\n",
    "train_data['is_Male'] = gender_cat_to_num_train['Gender_M']\n",
    "train_data['is_Infant'] = gender_cat_to_num_train['Gender_I']"
   ]
  },
  {
   "cell_type": "code",
   "execution_count": 13,
   "metadata": {},
   "outputs": [],
   "source": [
    "test_data['is_Female'] = gender_cat_to_num_test['Gender_F']\n",
    "test_data['is_Male'] = gender_cat_to_num_test['Gender_M']\n",
    "test_data['is_Infant'] = gender_cat_to_num_test['Gender_I']"
   ]
  },
  {
   "cell_type": "markdown",
   "metadata": {},
   "source": [
    "#### Creating New Features\n",
    "\n",
    "##### Community Members can try creating new features and see if the model is performing better or not"
   ]
  },
  {
   "cell_type": "code",
   "execution_count": 14,
   "metadata": {},
   "outputs": [],
   "source": [
    "train_data['Whole_Shucked_Weight'] = train_data['Whole weight']-train_data['Shucked weight']\n",
    "#train_data['Shell_Viscera_Weight'] = train_data['Shell weight']-train_data['Viscera weight']\n",
    "\n",
    "test_data['Whole_Shucked_Weight'] = test_data['Whole weight']-test_data['Shucked weight']\n",
    "#test_data['Shell_Viscera_Weight'] = test_data['Shell weight']-test_data['Viscera weight']"
   ]
  },
  {
   "cell_type": "code",
   "execution_count": 15,
   "metadata": {},
   "outputs": [
    {
     "data": {
      "image/png": "[encoded data removed]",
      "text/plain": [
       "<Figure size 1080x720 with 2 Axes>"
      ]
     },
     "metadata": {},
     "output_type": "display_data"
    }
   ],
   "source": [
    "plt.figure(figsize = (15, 10))\n",
    "sns.heatmap(train_data.corr(), annot = True)\n",
    "plt.show()"
   ]
  },
  {
   "cell_type": "code",
   "execution_count": 16,
   "metadata": {},
   "outputs": [
    {
     "data": {
      "text/html": [
       "<div>\n",
       "<style scoped>\n",
       "    .dataframe tbody tr th:only-of-type {\n",
       "        vertical-align: middle;\n",
       "    }\n",
       "\n",
       "    .dataframe tbody tr th {\n",
       "        vertical-align: top;\n",
       "    }\n",
       "\n",
       "    .dataframe thead th {\n",
       "        text-align: right;\n",
       "    }\n",
       "</style>\n",
       "<table border=\"1\" class=\"dataframe\">\n",
       "  <thead>\n",
       "    <tr style=\"text-align: right;\">\n",
       "      <th></th>\n",
       "      <th>Length</th>\n",
       "      <th>Diameter</th>\n",
       "      <th>Height</th>\n",
       "      <th>Whole weight</th>\n",
       "      <th>Shucked weight</th>\n",
       "      <th>Viscera weight</th>\n",
       "      <th>Shell weight</th>\n",
       "      <th>Rings</th>\n",
       "      <th>is_Female</th>\n",
       "      <th>is_Male</th>\n",
       "      <th>is_Infant</th>\n",
       "      <th>Whole_Shucked_Weight</th>\n",
       "    </tr>\n",
       "  </thead>\n",
       "  <tbody>\n",
       "    <tr>\n",
       "      <th>0</th>\n",
       "      <td>0.525</td>\n",
       "      <td>0.400</td>\n",
       "      <td>0.135</td>\n",
       "      <td>0.7140</td>\n",
       "      <td>0.3180</td>\n",
       "      <td>0.1380</td>\n",
       "      <td>0.2080</td>\n",
       "      <td>10</td>\n",
       "      <td>1</td>\n",
       "      <td>0</td>\n",
       "      <td>0</td>\n",
       "      <td>0.3960</td>\n",
       "    </tr>\n",
       "    <tr>\n",
       "      <th>1</th>\n",
       "      <td>0.445</td>\n",
       "      <td>0.325</td>\n",
       "      <td>0.125</td>\n",
       "      <td>0.4550</td>\n",
       "      <td>0.1785</td>\n",
       "      <td>0.1125</td>\n",
       "      <td>0.1400</td>\n",
       "      <td>9</td>\n",
       "      <td>1</td>\n",
       "      <td>0</td>\n",
       "      <td>0</td>\n",
       "      <td>0.2765</td>\n",
       "    </tr>\n",
       "    <tr>\n",
       "      <th>2</th>\n",
       "      <td>0.710</td>\n",
       "      <td>0.540</td>\n",
       "      <td>0.165</td>\n",
       "      <td>1.9590</td>\n",
       "      <td>0.7665</td>\n",
       "      <td>0.2610</td>\n",
       "      <td>0.7800</td>\n",
       "      <td>18</td>\n",
       "      <td>0</td>\n",
       "      <td>1</td>\n",
       "      <td>0</td>\n",
       "      <td>1.1925</td>\n",
       "    </tr>\n",
       "    <tr>\n",
       "      <th>3</th>\n",
       "      <td>0.680</td>\n",
       "      <td>0.580</td>\n",
       "      <td>0.200</td>\n",
       "      <td>1.7870</td>\n",
       "      <td>0.5850</td>\n",
       "      <td>0.4530</td>\n",
       "      <td>0.6000</td>\n",
       "      <td>19</td>\n",
       "      <td>1</td>\n",
       "      <td>0</td>\n",
       "      <td>0</td>\n",
       "      <td>1.2020</td>\n",
       "    </tr>\n",
       "    <tr>\n",
       "      <th>4</th>\n",
       "      <td>0.605</td>\n",
       "      <td>0.470</td>\n",
       "      <td>0.160</td>\n",
       "      <td>1.1735</td>\n",
       "      <td>0.4975</td>\n",
       "      <td>0.2405</td>\n",
       "      <td>0.3450</td>\n",
       "      <td>12</td>\n",
       "      <td>0</td>\n",
       "      <td>1</td>\n",
       "      <td>0</td>\n",
       "      <td>0.6760</td>\n",
       "    </tr>\n",
       "    <tr>\n",
       "      <th>...</th>\n",
       "      <td>...</td>\n",
       "      <td>...</td>\n",
       "      <td>...</td>\n",
       "      <td>...</td>\n",
       "      <td>...</td>\n",
       "      <td>...</td>\n",
       "      <td>...</td>\n",
       "      <td>...</td>\n",
       "      <td>...</td>\n",
       "      <td>...</td>\n",
       "      <td>...</td>\n",
       "      <td>...</td>\n",
       "    </tr>\n",
       "    <tr>\n",
       "      <th>3127</th>\n",
       "      <td>0.415</td>\n",
       "      <td>0.315</td>\n",
       "      <td>0.120</td>\n",
       "      <td>0.4015</td>\n",
       "      <td>0.1990</td>\n",
       "      <td>0.0870</td>\n",
       "      <td>0.0970</td>\n",
       "      <td>8</td>\n",
       "      <td>0</td>\n",
       "      <td>1</td>\n",
       "      <td>0</td>\n",
       "      <td>0.2025</td>\n",
       "    </tr>\n",
       "    <tr>\n",
       "      <th>3128</th>\n",
       "      <td>0.325</td>\n",
       "      <td>0.240</td>\n",
       "      <td>0.070</td>\n",
       "      <td>0.1520</td>\n",
       "      <td>0.0565</td>\n",
       "      <td>0.0305</td>\n",
       "      <td>0.0540</td>\n",
       "      <td>8</td>\n",
       "      <td>0</td>\n",
       "      <td>0</td>\n",
       "      <td>1</td>\n",
       "      <td>0.0955</td>\n",
       "    </tr>\n",
       "    <tr>\n",
       "      <th>3129</th>\n",
       "      <td>0.565</td>\n",
       "      <td>0.455</td>\n",
       "      <td>0.155</td>\n",
       "      <td>0.9355</td>\n",
       "      <td>0.4210</td>\n",
       "      <td>0.1830</td>\n",
       "      <td>0.2600</td>\n",
       "      <td>11</td>\n",
       "      <td>0</td>\n",
       "      <td>1</td>\n",
       "      <td>0</td>\n",
       "      <td>0.5145</td>\n",
       "    </tr>\n",
       "    <tr>\n",
       "      <th>3130</th>\n",
       "      <td>0.610</td>\n",
       "      <td>0.485</td>\n",
       "      <td>0.145</td>\n",
       "      <td>1.3305</td>\n",
       "      <td>0.7830</td>\n",
       "      <td>0.2255</td>\n",
       "      <td>0.2865</td>\n",
       "      <td>9</td>\n",
       "      <td>0</td>\n",
       "      <td>1</td>\n",
       "      <td>0</td>\n",
       "      <td>0.5475</td>\n",
       "    </tr>\n",
       "    <tr>\n",
       "      <th>3131</th>\n",
       "      <td>0.655</td>\n",
       "      <td>0.505</td>\n",
       "      <td>0.190</td>\n",
       "      <td>1.3485</td>\n",
       "      <td>0.5935</td>\n",
       "      <td>0.2745</td>\n",
       "      <td>0.4250</td>\n",
       "      <td>12</td>\n",
       "      <td>1</td>\n",
       "      <td>0</td>\n",
       "      <td>0</td>\n",
       "      <td>0.7550</td>\n",
       "    </tr>\n",
       "  </tbody>\n",
       "</table>\n",
       "<p>3132 rows × 12 columns</p>\n",
       "</div>"
      ],
      "text/plain": [
       "      Length  Diameter  Height  Whole weight  Shucked weight  Viscera weight  \\\n",
       "0      0.525     0.400   0.135        0.7140          0.3180          0.1380   \n",
       "1      0.445     0.325   0.125        0.4550          0.1785          0.1125   \n",
       "2      0.710     0.540   0.165        1.9590          0.7665          0.2610   \n",
       "3      0.680     0.580   0.200        1.7870          0.5850          0.4530   \n",
       "4      0.605     0.470   0.160        1.1735          0.4975          0.2405   \n",
       "...      ...       ...     ...           ...             ...             ...   \n",
       "3127   0.415     0.315   0.120        0.4015          0.1990          0.0870   \n",
       "3128   0.325     0.240   0.070        0.1520          0.0565          0.0305   \n",
       "3129   0.565     0.455   0.155        0.9355          0.4210          0.1830   \n",
       "3130   0.610     0.485   0.145        1.3305          0.7830          0.2255   \n",
       "3131   0.655     0.505   0.190        1.3485          0.5935          0.2745   \n",
       "\n",
       "      Shell weight  Rings  is_Female  is_Male  is_Infant  Whole_Shucked_Weight  \n",
       "0           0.2080     10          1        0          0                0.3960  \n",
       "1           0.1400      9          1        0          0                0.2765  \n",
       "2           0.7800     18          0        1          0                1.1925  \n",
       "3           0.6000     19          1        0          0                1.2020  \n",
       "4           0.3450     12          0        1          0                0.6760  \n",
       "...            ...    ...        ...      ...        ...                   ...  \n",
       "3127        0.0970      8          0        1          0                0.2025  \n",
       "3128        0.0540      8          0        0          1                0.0955  \n",
       "3129        0.2600     11          0        1          0                0.5145  \n",
       "3130        0.2865      9          0        1          0                0.5475  \n",
       "3131        0.4250     12          1        0          0                0.7550  \n",
       "\n",
       "[3132 rows x 12 columns]"
      ]
     },
     "execution_count": 16,
     "metadata": {},
     "output_type": "execute_result"
    }
   ],
   "source": [
    "train_data = train_data.drop('Sex',axis=1)\n",
    "\n",
    "train_data"
   ]
  },
  {
   "cell_type": "code",
   "execution_count": 17,
   "metadata": {},
   "outputs": [],
   "source": [
    "from sklearn.model_selection import train_test_split\n",
    "\n",
    "features = train_data.drop('Rings',axis=1)\n",
    "target = train_data['Rings']"
   ]
  },
  {
   "cell_type": "code",
   "execution_count": 18,
   "metadata": {},
   "outputs": [],
   "source": [
    "train_features,validation_features,train_target,validation_target = train_test_split(features,target,test_size=0.20,random_state=1)"
   ]
  },
  {
   "cell_type": "markdown",
   "metadata": {},
   "source": [
    "### Linear Regression"
   ]
  },
  {
   "cell_type": "code",
   "execution_count": 19,
   "metadata": {},
   "outputs": [],
   "source": [
    "from sklearn.linear_model import LinearRegression"
   ]
  },
  {
   "cell_type": "code",
   "execution_count": 20,
   "metadata": {},
   "outputs": [
    {
     "data": {
      "text/html": [
       "<div>\n",
       "<style scoped>\n",
       "    .dataframe tbody tr th:only-of-type {\n",
       "        vertical-align: middle;\n",
       "    }\n",
       "\n",
       "    .dataframe tbody tr th {\n",
       "        vertical-align: top;\n",
       "    }\n",
       "\n",
       "    .dataframe thead th {\n",
       "        text-align: right;\n",
       "    }\n",
       "</style>\n",
       "<table border=\"1\" class=\"dataframe\">\n",
       "  <thead>\n",
       "    <tr style=\"text-align: right;\">\n",
       "      <th></th>\n",
       "      <th>Length</th>\n",
       "      <th>Diameter</th>\n",
       "      <th>Height</th>\n",
       "      <th>Whole weight</th>\n",
       "      <th>Shucked weight</th>\n",
       "      <th>Viscera weight</th>\n",
       "      <th>Shell weight</th>\n",
       "      <th>is_Female</th>\n",
       "      <th>is_Male</th>\n",
       "      <th>is_Infant</th>\n",
       "      <th>Whole_Shucked_Weight</th>\n",
       "    </tr>\n",
       "  </thead>\n",
       "  <tbody>\n",
       "    <tr>\n",
       "      <th>1363</th>\n",
       "      <td>0.525</td>\n",
       "      <td>0.415</td>\n",
       "      <td>0.170</td>\n",
       "      <td>0.8325</td>\n",
       "      <td>0.2755</td>\n",
       "      <td>0.1685</td>\n",
       "      <td>0.3100</td>\n",
       "      <td>1</td>\n",
       "      <td>0</td>\n",
       "      <td>0</td>\n",
       "      <td>0.5570</td>\n",
       "    </tr>\n",
       "    <tr>\n",
       "      <th>937</th>\n",
       "      <td>0.715</td>\n",
       "      <td>0.550</td>\n",
       "      <td>0.190</td>\n",
       "      <td>2.0045</td>\n",
       "      <td>1.0465</td>\n",
       "      <td>0.4070</td>\n",
       "      <td>0.5075</td>\n",
       "      <td>0</td>\n",
       "      <td>1</td>\n",
       "      <td>0</td>\n",
       "      <td>0.9580</td>\n",
       "    </tr>\n",
       "    <tr>\n",
       "      <th>1777</th>\n",
       "      <td>0.620</td>\n",
       "      <td>0.540</td>\n",
       "      <td>0.165</td>\n",
       "      <td>1.1390</td>\n",
       "      <td>0.4995</td>\n",
       "      <td>0.2435</td>\n",
       "      <td>0.3570</td>\n",
       "      <td>1</td>\n",
       "      <td>0</td>\n",
       "      <td>0</td>\n",
       "      <td>0.6395</td>\n",
       "    </tr>\n",
       "    <tr>\n",
       "      <th>3015</th>\n",
       "      <td>0.385</td>\n",
       "      <td>0.300</td>\n",
       "      <td>0.100</td>\n",
       "      <td>0.2895</td>\n",
       "      <td>0.1215</td>\n",
       "      <td>0.0630</td>\n",
       "      <td>0.0900</td>\n",
       "      <td>0</td>\n",
       "      <td>0</td>\n",
       "      <td>1</td>\n",
       "      <td>0.1680</td>\n",
       "    </tr>\n",
       "    <tr>\n",
       "      <th>2138</th>\n",
       "      <td>0.625</td>\n",
       "      <td>0.480</td>\n",
       "      <td>0.175</td>\n",
       "      <td>1.0650</td>\n",
       "      <td>0.4865</td>\n",
       "      <td>0.2590</td>\n",
       "      <td>0.2850</td>\n",
       "      <td>0</td>\n",
       "      <td>1</td>\n",
       "      <td>0</td>\n",
       "      <td>0.5785</td>\n",
       "    </tr>\n",
       "    <tr>\n",
       "      <th>...</th>\n",
       "      <td>...</td>\n",
       "      <td>...</td>\n",
       "      <td>...</td>\n",
       "      <td>...</td>\n",
       "      <td>...</td>\n",
       "      <td>...</td>\n",
       "      <td>...</td>\n",
       "      <td>...</td>\n",
       "      <td>...</td>\n",
       "      <td>...</td>\n",
       "      <td>...</td>\n",
       "    </tr>\n",
       "    <tr>\n",
       "      <th>2763</th>\n",
       "      <td>0.380</td>\n",
       "      <td>0.280</td>\n",
       "      <td>0.095</td>\n",
       "      <td>0.2885</td>\n",
       "      <td>0.1650</td>\n",
       "      <td>0.0435</td>\n",
       "      <td>0.0670</td>\n",
       "      <td>0</td>\n",
       "      <td>0</td>\n",
       "      <td>1</td>\n",
       "      <td>0.1235</td>\n",
       "    </tr>\n",
       "    <tr>\n",
       "      <th>905</th>\n",
       "      <td>0.315</td>\n",
       "      <td>0.250</td>\n",
       "      <td>0.090</td>\n",
       "      <td>0.2030</td>\n",
       "      <td>0.0615</td>\n",
       "      <td>0.0370</td>\n",
       "      <td>0.0795</td>\n",
       "      <td>0</td>\n",
       "      <td>1</td>\n",
       "      <td>0</td>\n",
       "      <td>0.1415</td>\n",
       "    </tr>\n",
       "    <tr>\n",
       "      <th>1096</th>\n",
       "      <td>0.690</td>\n",
       "      <td>0.550</td>\n",
       "      <td>0.180</td>\n",
       "      <td>1.6915</td>\n",
       "      <td>0.6655</td>\n",
       "      <td>0.4020</td>\n",
       "      <td>0.5000</td>\n",
       "      <td>0</td>\n",
       "      <td>1</td>\n",
       "      <td>0</td>\n",
       "      <td>1.0260</td>\n",
       "    </tr>\n",
       "    <tr>\n",
       "      <th>235</th>\n",
       "      <td>0.705</td>\n",
       "      <td>0.560</td>\n",
       "      <td>0.170</td>\n",
       "      <td>1.4575</td>\n",
       "      <td>0.6070</td>\n",
       "      <td>0.3180</td>\n",
       "      <td>0.4400</td>\n",
       "      <td>1</td>\n",
       "      <td>0</td>\n",
       "      <td>0</td>\n",
       "      <td>0.8505</td>\n",
       "    </tr>\n",
       "    <tr>\n",
       "      <th>1061</th>\n",
       "      <td>0.295</td>\n",
       "      <td>0.230</td>\n",
       "      <td>0.080</td>\n",
       "      <td>0.1625</td>\n",
       "      <td>0.0650</td>\n",
       "      <td>0.0500</td>\n",
       "      <td>0.0385</td>\n",
       "      <td>0</td>\n",
       "      <td>0</td>\n",
       "      <td>1</td>\n",
       "      <td>0.0975</td>\n",
       "    </tr>\n",
       "  </tbody>\n",
       "</table>\n",
       "<p>2505 rows × 11 columns</p>\n",
       "</div>"
      ],
      "text/plain": [
       "      Length  Diameter  Height  Whole weight  Shucked weight  Viscera weight  \\\n",
       "1363   0.525     0.415   0.170        0.8325          0.2755          0.1685   \n",
       "937    0.715     0.550   0.190        2.0045          1.0465          0.4070   \n",
       "1777   0.620     0.540   0.165        1.1390          0.4995          0.2435   \n",
       "3015   0.385     0.300   0.100        0.2895          0.1215          0.0630   \n",
       "2138   0.625     0.480   0.175        1.0650          0.4865          0.2590   \n",
       "...      ...       ...     ...           ...             ...             ...   \n",
       "2763   0.380     0.280   0.095        0.2885          0.1650          0.0435   \n",
       "905    0.315     0.250   0.090        0.2030          0.0615          0.0370   \n",
       "1096   0.690     0.550   0.180        1.6915          0.6655          0.4020   \n",
       "235    0.705     0.560   0.170        1.4575          0.6070          0.3180   \n",
       "1061   0.295     0.230   0.080        0.1625          0.0650          0.0500   \n",
       "\n",
       "      Shell weight  is_Female  is_Male  is_Infant  Whole_Shucked_Weight  \n",
       "1363        0.3100          1        0          0                0.5570  \n",
       "937         0.5075          0        1          0                0.9580  \n",
       "1777        0.3570          1        0          0                0.6395  \n",
       "3015        0.0900          0        0          1                0.1680  \n",
       "2138        0.2850          0        1          0                0.5785  \n",
       "...            ...        ...      ...        ...                   ...  \n",
       "2763        0.0670          0        0          1                0.1235  \n",
       "905         0.0795          0        1          0                0.1415  \n",
       "1096        0.5000          0        1          0                1.0260  \n",
       "235         0.4400          1        0          0                0.8505  \n",
       "1061        0.0385          0        0          1                0.0975  \n",
       "\n",
       "[2505 rows x 11 columns]"
      ]
     },
     "execution_count": 20,
     "metadata": {},
     "output_type": "execute_result"
    }
   ],
   "source": [
    "train_features"
   ]
  },
  {
   "cell_type": "code",
   "execution_count": 22,
   "metadata": {},
   "outputs": [
    {
     "data": {
      "text/plain": [
       "LinearRegression()"
      ]
     },
     "execution_count": 22,
     "metadata": {},
     "output_type": "execute_result"
    }
   ],
   "source": [
    "model_LR = LinearRegression(normalize = False)\n",
    "model_LR.fit(train_features, train_target)"
   ]
  },
  {
   "cell_type": "code",
   "execution_count": 23,
   "metadata": {},
   "outputs": [
    {
     "name": "stdout",
     "output_type": "stream",
     "text": [
      "Model intercept  :  8970317017556.754 \n",
      "\n",
      "Model coefficient:  [-1.43304966e-01  7.95571907e+00  1.96954302e+01 -2.14950089e+12\n",
      "  2.14950089e+12 -1.30114472e+01  5.10600765e+00 -8.97031702e+12\n",
      " -8.97031702e+12 -8.97031702e+12  2.14950089e+12] \n",
      "\n",
      "Length :  -0.14330496560033038\n",
      "Diameter :  7.955719065611412\n",
      "Height :  19.695430151772822\n",
      "Whole weight :  -2149500889246.236\n",
      "Shucked weight :  2149500889235.2993\n",
      "Viscera weight :  -13.011447229859689\n",
      "Shell weight :  5.106007646611086\n",
      "is_Female :  -8970317017552.906\n",
      "is_Male :  -8970317017552.787\n",
      "is_Infant :  -8970317017553.666\n",
      "Whole_Shucked_Weight :  2149500889257.8948\n"
     ]
    }
   ],
   "source": [
    "print(\"Model intercept  : \", model_LR.intercept_, \"\\n\")\n",
    "print(\"Model coefficient: \", model_LR.coef_, \"\\n\")\n",
    "\n",
    "for i in range(len(train_features.columns)):\n",
    "    print(train_features.columns[i], \": \", model_LR.coef_[i])"
   ]
  },
  {
   "cell_type": "markdown",
   "metadata": {},
   "source": [
    "**Inference: Model Intercept and Coefficients are very large and is prone to overfitting**"
   ]
  },
  {
   "cell_type": "code",
   "execution_count": 24,
   "metadata": {},
   "outputs": [],
   "source": [
    "from sklearn.metrics import mean_squared_error"
   ]
  },
  {
   "cell_type": "code",
   "execution_count": 25,
   "metadata": {},
   "outputs": [
    {
     "name": "stdout",
     "output_type": "stream",
     "text": [
      "      Rings  Predicted  Difference\n",
      "1363     13  13.292969    0.292969\n",
      "937      12   9.001953   -2.998047\n",
      "1777     11  11.951172    0.951172\n",
      "3015      7   7.658203    0.658203\n",
      "2138     10  10.652344    0.652344\n",
      "2132     11   9.652344   -1.347656\n",
      "1421      6   5.755859   -0.244141\n",
      "1690      9   9.562500    0.562500\n",
      "2952      5   5.750000    0.750000\n",
      "1228      9  11.804688    2.804688 \n",
      "\n",
      "Linear Regression Model training performance:\n",
      "---------------------------\n",
      "RMSE is 2.1694803894014316\n",
      "--------------------------\n"
     ]
    }
   ],
   "source": [
    "# Model evaluation for training set\n",
    "train_target_pred = model_LR.predict(train_features)\n",
    "rmse = (np.sqrt(mean_squared_error(train_target, train_target_pred)))\n",
    "\n",
    "# Examine the first 10 predicted output from the model\n",
    "output = pd.DataFrame(train_target[0:10])\n",
    "output['Predicted'] = train_target_pred[0:10]\n",
    "output['Difference'] = output['Predicted'] - output['Rings']\n",
    "print(output, \"\\n\")\n",
    "\n",
    "print(\"Linear Regression Model training performance:\")\n",
    "print(\"---------------------------\")\n",
    "print('RMSE is {}'.format(rmse))\n",
    "print(\"--------------------------\")"
   ]
  },
  {
   "cell_type": "code",
   "execution_count": 26,
   "metadata": {},
   "outputs": [],
   "source": [
    "from sklearn.model_selection import cross_val_score"
   ]
  },
  {
   "cell_type": "code",
   "execution_count": 27,
   "metadata": {},
   "outputs": [
    {
     "name": "stdout",
     "output_type": "stream",
     "text": [
      "Linear Regression Model Cross Validation Training Set performance:\n",
      "---------------------------\n",
      "RMSE is 2.1912097447559806\n",
      "--------------------------\n"
     ]
    }
   ],
   "source": [
    "MSE_CV_scores = -1*(cross_val_score(model_LR,train_features,train_target,cv=5,scoring='neg_mean_squared_error',n_jobs = -1))\n",
    "\n",
    "RMSE_CV = ( MSE_CV_scores.mean() ) ** (1/2)\n",
    "\n",
    "print(\"Linear Regression Model Cross Validation Training Set performance:\")\n",
    "print(\"---------------------------\")\n",
    "print('RMSE is {}'.format(RMSE_CV))\n",
    "print(\"--------------------------\")"
   ]
  },
  {
   "cell_type": "code",
   "execution_count": 28,
   "metadata": {},
   "outputs": [
    {
     "name": "stdout",
     "output_type": "stream",
     "text": [
      "      Rings  Predicted  Difference\n",
      "3116     10  11.458984    1.458984\n",
      "110      15  11.908203   -3.091797\n",
      "2845      9   7.904297   -1.095703\n",
      "517       7   6.789062   -0.210938\n",
      "340       9   9.519531    0.519531\n",
      "1047      4   7.667969    3.667969\n",
      "1856      8   8.568359    0.568359\n",
      "1668     11  10.712891   -0.287109\n",
      "2455      5   5.207031    0.207031\n",
      "2338      9  10.390625    1.390625 \n",
      "\n",
      "Linear Regression Model test performance:\n",
      "---------------------------\n",
      "RMSE is 2.2528185863445347\n",
      "--------------------------\n"
     ]
    }
   ],
   "source": [
    "# Model evaluation for testing set\n",
    "validation_target_pred = model_LR.predict(validation_features)\n",
    "rmse = (np.sqrt(mean_squared_error(validation_target, validation_target_pred)))\n",
    "\n",
    "# Examine the first 10 predicted output from the model\n",
    "output = pd.DataFrame(validation_target[0:10])\n",
    "output['Predicted'] = validation_target_pred[0:10]\n",
    "output['Difference'] = output['Predicted'] - output['Rings']\n",
    "print(output, \"\\n\")\n",
    "\n",
    "print(\"Linear Regression Model test performance:\")\n",
    "print(\"---------------------------\")\n",
    "print('RMSE is {}'.format(rmse))\n",
    "print(\"--------------------------\")"
   ]
  },
  {
   "cell_type": "markdown",
   "metadata": {},
   "source": [
    "### Ridge Regression\n",
    "\n",
    "#### Tried to reduce the magnitude of model intercept and coefficients using this ML Model"
   ]
  },
  {
   "cell_type": "code",
   "execution_count": 29,
   "metadata": {},
   "outputs": [
    {
     "data": {
      "text/plain": [
       "array([5.00000000e+09, 3.78231664e+09, 2.86118383e+09, 2.16438064e+09,\n",
       "       1.63727458e+09, 1.23853818e+09, 9.36908711e+08, 7.08737081e+08,\n",
       "       5.36133611e+08, 4.05565415e+08, 3.06795364e+08, 2.32079442e+08,\n",
       "       1.75559587e+08, 1.32804389e+08, 1.00461650e+08, 7.59955541e+07,\n",
       "       5.74878498e+07, 4.34874501e+07, 3.28966612e+07, 2.48851178e+07,\n",
       "       1.88246790e+07, 1.42401793e+07, 1.07721735e+07, 8.14875417e+06,\n",
       "       6.16423370e+06, 4.66301673e+06, 3.52740116e+06, 2.66834962e+06,\n",
       "       2.01850863e+06, 1.52692775e+06, 1.15506485e+06, 8.73764200e+05,\n",
       "       6.60970574e+05, 5.00000000e+05, 3.78231664e+05, 2.86118383e+05,\n",
       "       2.16438064e+05, 1.63727458e+05, 1.23853818e+05, 9.36908711e+04,\n",
       "       7.08737081e+04, 5.36133611e+04, 4.05565415e+04, 3.06795364e+04,\n",
       "       2.32079442e+04, 1.75559587e+04, 1.32804389e+04, 1.00461650e+04,\n",
       "       7.59955541e+03, 5.74878498e+03, 4.34874501e+03, 3.28966612e+03,\n",
       "       2.48851178e+03, 1.88246790e+03, 1.42401793e+03, 1.07721735e+03,\n",
       "       8.14875417e+02, 6.16423370e+02, 4.66301673e+02, 3.52740116e+02,\n",
       "       2.66834962e+02, 2.01850863e+02, 1.52692775e+02, 1.15506485e+02,\n",
       "       8.73764200e+01, 6.60970574e+01, 5.00000000e+01, 3.78231664e+01,\n",
       "       2.86118383e+01, 2.16438064e+01, 1.63727458e+01, 1.23853818e+01,\n",
       "       9.36908711e+00, 7.08737081e+00, 5.36133611e+00, 4.05565415e+00,\n",
       "       3.06795364e+00, 2.32079442e+00, 1.75559587e+00, 1.32804389e+00,\n",
       "       1.00461650e+00, 7.59955541e-01, 5.74878498e-01, 4.34874501e-01,\n",
       "       3.28966612e-01, 2.48851178e-01, 1.88246790e-01, 1.42401793e-01,\n",
       "       1.07721735e-01, 8.14875417e-02, 6.16423370e-02, 4.66301673e-02,\n",
       "       3.52740116e-02, 2.66834962e-02, 2.01850863e-02, 1.52692775e-02,\n",
       "       1.15506485e-02, 8.73764200e-03, 6.60970574e-03, 5.00000000e-03])"
      ]
     },
     "execution_count": 29,
     "metadata": {},
     "output_type": "execute_result"
    }
   ],
   "source": [
    "alphas = 10**np.linspace(10,-2,100)*0.5\n",
    "alphas"
   ]
  },
  {
   "cell_type": "code",
   "execution_count": 30,
   "metadata": {},
   "outputs": [],
   "source": [
    "from sklearn.linear_model import Ridge,RidgeCV"
   ]
  },
  {
   "cell_type": "code",
   "execution_count": 31,
   "metadata": {},
   "outputs": [
    {
     "data": {
      "text/plain": [
       "RidgeCV(alphas=array([5.00000000e+09, 3.78231664e+09, 2.86118383e+09, 2.16438064e+09,\n",
       "       1.63727458e+09, 1.23853818e+09, 9.36908711e+08, 7.08737081e+08,\n",
       "       5.36133611e+08, 4.05565415e+08, 3.06795364e+08, 2.32079442e+08,\n",
       "       1.75559587e+08, 1.32804389e+08, 1.00461650e+08, 7.59955541e+07,\n",
       "       5.74878498e+07, 4.34874501e+07, 3.28966612e+07, 2.48851178e+07,\n",
       "       1.88246790e+07, 1.42401793e+0...\n",
       "       3.06795364e+00, 2.32079442e+00, 1.75559587e+00, 1.32804389e+00,\n",
       "       1.00461650e+00, 7.59955541e-01, 5.74878498e-01, 4.34874501e-01,\n",
       "       3.28966612e-01, 2.48851178e-01, 1.88246790e-01, 1.42401793e-01,\n",
       "       1.07721735e-01, 8.14875417e-02, 6.16423370e-02, 4.66301673e-02,\n",
       "       3.52740116e-02, 2.66834962e-02, 2.01850863e-02, 1.52692775e-02,\n",
       "       1.15506485e-02, 8.73764200e-03, 6.60970574e-03, 5.00000000e-03]),\n",
       "        scoring='neg_mean_squared_error')"
      ]
     },
     "execution_count": 31,
     "metadata": {},
     "output_type": "execute_result"
    }
   ],
   "source": [
    "ridgecv = RidgeCV(alphas = alphas, scoring = 'neg_mean_squared_error', normalize = False)\n",
    "ridgecv.fit(train_features, train_target)"
   ]
  },
  {
   "cell_type": "code",
   "execution_count": 32,
   "metadata": {},
   "outputs": [
    {
     "data": {
      "text/plain": [
       "0.06164233697210317"
      ]
     },
     "execution_count": 32,
     "metadata": {},
     "output_type": "execute_result"
    }
   ],
   "source": [
    "ridgecv.alpha_"
   ]
  },
  {
   "cell_type": "markdown",
   "metadata": {},
   "source": [
    "*0.06164233697210317 is the best lambda value obtained to reduce the magnitude of coefficients*"
   ]
  },
  {
   "cell_type": "code",
   "execution_count": 33,
   "metadata": {},
   "outputs": [
    {
     "data": {
      "text/plain": [
       "Ridge(alpha=0.06164233697210317)"
      ]
     },
     "execution_count": 33,
     "metadata": {},
     "output_type": "execute_result"
    }
   ],
   "source": [
    "model_RR = Ridge(alpha=0.06164233697210317,normalize = False)\n",
    "model_RR.fit(train_features, train_target)"
   ]
  },
  {
   "cell_type": "code",
   "execution_count": 34,
   "metadata": {},
   "outputs": [
    {
     "name": "stdout",
     "output_type": "stream",
     "text": [
      "Model intercept  :  3.6840451698454117 \n",
      "\n",
      "Model coefficient:  [  0.40837427   7.55781853  17.92560155   0.16096462 -11.14243875\n",
      " -12.4927188    5.45163971   0.21386627   0.33159564  -0.54546191\n",
      "  11.30340337] \n",
      "\n",
      "Length :  0.4083742710774425\n",
      "Diameter :  7.557818525923137\n",
      "Height :  17.9256015496649\n",
      "Whole weight :  0.1609646247498071\n",
      "Shucked weight :  -11.142438745491361\n",
      "Viscera weight :  -12.492718795102807\n",
      "Shell weight :  5.4516397117443125\n",
      "is_Female :  0.2138662698510666\n",
      "is_Male :  0.3315956380965266\n",
      "is_Infant :  -0.5454619079680822\n",
      "Whole_Shucked_Weight :  11.303403370225839\n"
     ]
    }
   ],
   "source": [
    "print(\"Model intercept  : \", model_RR.intercept_, \"\\n\")\n",
    "print(\"Model coefficient: \", model_RR.coef_, \"\\n\")\n",
    "\n",
    "for i in range(len(train_features.columns)):\n",
    "    print(train_features.columns[i], \": \", model_RR.coef_[i])"
   ]
  },
  {
   "cell_type": "markdown",
   "metadata": {},
   "source": [
    "#### Magnitude of the model coefficients are reduced"
   ]
  },
  {
   "cell_type": "code",
   "execution_count": 35,
   "metadata": {},
   "outputs": [
    {
     "name": "stdout",
     "output_type": "stream",
     "text": [
      "      Rings  Predicted  Difference\n",
      "1363     13  13.241397    0.241397\n",
      "937      12   9.043215   -2.956785\n",
      "1777     11  11.940525    0.940525\n",
      "3015      7   7.651084    0.651084\n",
      "2138     10  10.643361    0.643361\n",
      "2132     11   9.638683   -1.361317\n",
      "1421      6   5.775461   -0.224539\n",
      "1690      9   9.543904    0.543904\n",
      "2952      5   5.769083    0.769083\n",
      "1228      9  11.812145    2.812145 \n",
      "\n",
      "Ridge Regression Model training performance:\n",
      "---------------------------\n",
      "RMSE is 2.1696955761085257\n",
      "--------------------------\n"
     ]
    }
   ],
   "source": [
    "# Model evaluation for training set\n",
    "train_target_pred = model_RR.predict(train_features)\n",
    "rmse = np.sqrt(mean_squared_error(train_target, train_target_pred))\n",
    "\n",
    "# Examine the first 10 predicted output from the model\n",
    "output = pd.DataFrame(train_target[0:10])\n",
    "output['Predicted'] = train_target_pred[0:10]\n",
    "output['Difference'] = output['Predicted'] - output['Rings']\n",
    "print(output, \"\\n\")\n",
    "\n",
    "print(\"Ridge Regression Model training performance:\")\n",
    "print(\"---------------------------\")\n",
    "print('RMSE is {}'.format(rmse))\n",
    "print(\"--------------------------\")"
   ]
  },
  {
   "cell_type": "code",
   "execution_count": 36,
   "metadata": {},
   "outputs": [
    {
     "name": "stdout",
     "output_type": "stream",
     "text": [
      "Ridge Regression Model Cross Validation Training Set performance:\n",
      "---------------------------\n",
      "RMSE is 2.190399940366372\n",
      "--------------------------\n"
     ]
    }
   ],
   "source": [
    "MSE_CV_scores = -1*(cross_val_score(model_RR,train_features,train_target,cv=5,scoring='neg_mean_squared_error',n_jobs = -1))\n",
    "\n",
    "RMSE_CV = ( MSE_CV_scores.mean() ) ** (1/2)\n",
    "\n",
    "print(\"Ridge Regression Model Cross Validation Training Set performance:\")\n",
    "print(\"---------------------------\")\n",
    "print('RMSE is {}'.format(RMSE_CV))\n",
    "print(\"--------------------------\")"
   ]
  },
  {
   "cell_type": "code",
   "execution_count": 37,
   "metadata": {},
   "outputs": [
    {
     "name": "stdout",
     "output_type": "stream",
     "text": [
      "      Rings  Predicted  Difference\n",
      "3116     10  11.444865    1.444865\n",
      "110      15  11.840926   -3.159074\n",
      "2845      9   7.879357   -1.120643\n",
      "517       7   6.816427   -0.183573\n",
      "340       9   9.496564    0.496564\n",
      "1047      4   7.659048    3.659048\n",
      "1856      8   8.609062    0.609062\n",
      "1668     11  10.682659   -0.317341\n",
      "2455      5   5.252138    0.252138\n",
      "2338      9  10.401637    1.401637 \n",
      "\n",
      "Ridge Regression Model test performance:\n",
      "---------------------------\n",
      "RMSE is 2.2501307090270086\n",
      "--------------------------\n"
     ]
    }
   ],
   "source": [
    "# Model evaluation for testing set\n",
    "validation_target_pred = model_RR.predict(validation_features)\n",
    "rmse = (np.sqrt(mean_squared_error(validation_target, validation_target_pred)))\n",
    "\n",
    "# Examine the first 10 predicted output from the model\n",
    "output = pd.DataFrame(validation_target[0:10])\n",
    "output['Predicted'] = validation_target_pred[0:10]\n",
    "output['Difference'] = output['Predicted'] - output['Rings']\n",
    "print(output, \"\\n\")\n",
    "\n",
    "print(\"Ridge Regression Model test performance:\")\n",
    "print(\"---------------------------\")\n",
    "print('RMSE is {}'.format(rmse))\n",
    "print(\"--------------------------\")"
   ]
  },
  {
   "cell_type": "markdown",
   "metadata": {},
   "source": [
    "### Lasso Regression\n",
    "\n",
    "#### To reduce the number of features in the Model"
   ]
  },
  {
   "cell_type": "code",
   "execution_count": 38,
   "metadata": {},
   "outputs": [],
   "source": [
    "from sklearn.linear_model import Lasso,LassoCV"
   ]
  },
  {
   "cell_type": "code",
   "execution_count": 39,
   "metadata": {},
   "outputs": [
    {
     "data": {
      "text/plain": [
       "LassoCV(alphas=array([5.00000000e+09, 3.78231664e+09, 2.86118383e+09, 2.16438064e+09,\n",
       "       1.63727458e+09, 1.23853818e+09, 9.36908711e+08, 7.08737081e+08,\n",
       "       5.36133611e+08, 4.05565415e+08, 3.06795364e+08, 2.32079442e+08,\n",
       "       1.75559587e+08, 1.32804389e+08, 1.00461650e+08, 7.59955541e+07,\n",
       "       5.74878498e+07, 4.34874501e+07, 3.28966612e+07, 2.48851178e+07,\n",
       "       1.88246790e+07, 1.42401793e+0...\n",
       "       3.06795364e+00, 2.32079442e+00, 1.75559587e+00, 1.32804389e+00,\n",
       "       1.00461650e+00, 7.59955541e-01, 5.74878498e-01, 4.34874501e-01,\n",
       "       3.28966612e-01, 2.48851178e-01, 1.88246790e-01, 1.42401793e-01,\n",
       "       1.07721735e-01, 8.14875417e-02, 6.16423370e-02, 4.66301673e-02,\n",
       "       3.52740116e-02, 2.66834962e-02, 2.01850863e-02, 1.52692775e-02,\n",
       "       1.15506485e-02, 8.73764200e-03, 6.60970574e-03, 5.00000000e-03]))"
      ]
     },
     "execution_count": 39,
     "metadata": {},
     "output_type": "execute_result"
    }
   ],
   "source": [
    "lassocv = LassoCV(alphas = alphas, normalize = False)\n",
    "lassocv.fit(train_features, train_target)"
   ]
  },
  {
   "cell_type": "code",
   "execution_count": 40,
   "metadata": {},
   "outputs": [
    {
     "data": {
      "text/plain": [
       "0.005"
      ]
     },
     "execution_count": 40,
     "metadata": {},
     "output_type": "execute_result"
    }
   ],
   "source": [
    "lassocv.alpha_"
   ]
  },
  {
   "cell_type": "code",
   "execution_count": 41,
   "metadata": {},
   "outputs": [
    {
     "data": {
      "text/plain": [
       "Lasso(alpha=0.005)"
      ]
     },
     "execution_count": 41,
     "metadata": {},
     "output_type": "execute_result"
    }
   ],
   "source": [
    "model_lasso = Lasso(alpha=0.005, normalize= False)\n",
    "model_lasso.fit(train_features,train_target)"
   ]
  },
  {
   "cell_type": "code",
   "execution_count": 42,
   "metadata": {},
   "outputs": [
    {
     "data": {
      "text/plain": [
       "226"
      ]
     },
     "execution_count": 42,
     "metadata": {},
     "output_type": "execute_result"
    }
   ],
   "source": [
    "model_lasso.n_iter_"
   ]
  },
  {
   "cell_type": "code",
   "execution_count": 43,
   "metadata": {},
   "outputs": [
    {
     "data": {
      "text/plain": [
       "9"
      ]
     },
     "execution_count": 43,
     "metadata": {},
     "output_type": "execute_result"
    }
   ],
   "source": [
    "coeff_used = np.sum(model_lasso.coef_!=0)\n",
    "coeff_used"
   ]
  },
  {
   "cell_type": "code",
   "execution_count": 44,
   "metadata": {},
   "outputs": [
    {
     "name": "stdout",
     "output_type": "stream",
     "text": [
      "Model intercept  :  5.294704767654082 \n",
      "\n",
      "Model coefficient:  [  0.17516051   7.24869521   3.47089419   0.         -10.84927486\n",
      "  -5.33205034   7.07253998  -0.           0.06651677  -0.86214227\n",
      "   9.72640544] \n",
      "\n",
      "Length :  0.17516051261004292\n",
      "Diameter :  7.248695210968905\n",
      "Height :  3.4708941856135493\n",
      "Whole weight :  0.0\n",
      "Shucked weight :  -10.84927485944804\n",
      "Viscera weight :  -5.332050344605625\n",
      "Shell weight :  7.072539981450261\n",
      "is_Female :  -0.0\n",
      "is_Male :  0.06651677390335302\n",
      "is_Infant :  -0.8621422714826954\n",
      "Whole_Shucked_Weight :  9.72640543791466\n"
     ]
    }
   ],
   "source": [
    "print(\"Model intercept  : \", model_lasso.intercept_, \"\\n\")\n",
    "print(\"Model coefficient: \", model_lasso.coef_, \"\\n\")\n",
    "\n",
    "for i in range(len(train_features.columns)):\n",
    "    print(train_features.columns[i], \": \", model_lasso.coef_[i])"
   ]
  },
  {
   "cell_type": "markdown",
   "metadata": {},
   "source": [
    "**Whole weight is not a feature to the model**\n",
    "\n",
    "**is_Female feature is also neglected [This makes our model bad]**"
   ]
  },
  {
   "cell_type": "code",
   "execution_count": 45,
   "metadata": {},
   "outputs": [
    {
     "name": "stdout",
     "output_type": "stream",
     "text": [
      "      Rings  Predicted  Difference\n",
      "1363     13  12.707594   -0.292406\n",
      "937      12   9.516013   -2.483987\n",
      "1777     11  11.917663    0.917663\n",
      "3015      7   7.638156    0.638156\n",
      "2138     10  10.540703    0.540703\n",
      "2132     11   9.597496   -1.402504\n",
      "1421      6   6.188572    0.188572\n",
      "1690      9   9.479346    0.479346\n",
      "2952      5   6.182097    1.182097\n",
      "1228      9  11.927263    2.927263 \n",
      "\n",
      "Lasso Regression Model training performance:\n",
      "---------------------------\n",
      "RMSE is 2.197334810201837\n",
      "--------------------------\n"
     ]
    }
   ],
   "source": [
    "# Model evaluation for training set\n",
    "train_target_pred = model_lasso.predict(train_features)\n",
    "rmse = np.sqrt(mean_squared_error(train_target, train_target_pred))\n",
    "\n",
    "# Examine the first 10 predicted output from the model\n",
    "output = pd.DataFrame(train_target[0:10])\n",
    "output['Predicted'] = train_target_pred[0:10]\n",
    "output['Difference'] = output['Predicted'] - output['Rings']\n",
    "print(output, \"\\n\")\n",
    "\n",
    "print(\"Lasso Regression Model training performance:\")\n",
    "print(\"---------------------------\")\n",
    "print('RMSE is {}'.format(rmse))\n",
    "print(\"--------------------------\")"
   ]
  },
  {
   "cell_type": "code",
   "execution_count": 46,
   "metadata": {
    "scrolled": false
   },
   "outputs": [
    {
     "name": "stdout",
     "output_type": "stream",
     "text": [
      "Lasso Regression Model Cross Validation Training Set performance:\n",
      "---------------------------\n",
      "RMSE is 2.2144331013196283\n",
      "--------------------------\n"
     ]
    }
   ],
   "source": [
    "MSE_CV_scores = -1*(cross_val_score(model_lasso,train_features,train_target,cv=10,scoring='neg_mean_squared_error',n_jobs = -1))\n",
    "\n",
    "RMSE_CV = ( MSE_CV_scores.mean() ) ** (1/2)\n",
    "\n",
    "print(\"Lasso Regression Model Cross Validation Training Set performance:\")\n",
    "print(\"---------------------------\")\n",
    "print('RMSE is {}'.format(RMSE_CV))\n",
    "print(\"--------------------------\")"
   ]
  },
  {
   "cell_type": "code",
   "execution_count": 47,
   "metadata": {},
   "outputs": [
    {
     "name": "stdout",
     "output_type": "stream",
     "text": [
      "      Rings  Predicted  Difference\n",
      "3116     10  11.445862    1.445862\n",
      "110      15  11.419125   -3.580875\n",
      "2845      9   7.721105   -1.278895\n",
      "517       7   7.052891    0.052891\n",
      "340       9   9.182802    0.182802\n",
      "1047      4   7.729944    3.729944\n",
      "1856      8   8.798501    0.798501\n",
      "1668     11  10.299001   -0.700999\n",
      "2455      5   5.938979    0.938979\n",
      "2338      9  10.391797    1.391797 \n",
      "\n",
      "Lasoo Regression Model test performance:\n",
      "---------------------------\n",
      "RMSE is 2.259805370749807\n",
      "--------------------------\n"
     ]
    }
   ],
   "source": [
    "# Model evaluation for testing set\n",
    "validation_target_pred = model_lasso.predict(validation_features)\n",
    "rmse = (np.sqrt(mean_squared_error(validation_target, validation_target_pred)))\n",
    "\n",
    "# Examine the first 10 predicted output from the model\n",
    "output = pd.DataFrame(validation_target[0:10])\n",
    "output['Predicted'] = validation_target_pred[0:10]\n",
    "output['Difference'] = output['Predicted'] - output['Rings']\n",
    "print(output, \"\\n\")\n",
    "\n",
    "print(\"Lasoo Regression Model test performance:\")\n",
    "print(\"---------------------------\")\n",
    "print('RMSE is {}'.format(rmse))\n",
    "print(\"--------------------------\")"
   ]
  },
  {
   "cell_type": "markdown",
   "metadata": {},
   "source": [
    "### RandomForest Regressor\n"
   ]
  },
  {
   "cell_type": "code",
   "execution_count": 48,
   "metadata": {},
   "outputs": [],
   "source": [
    "from sklearn.ensemble import RandomForestRegressor\n",
    "model_rfr = RandomForestRegressor(n_estimators = 20, max_features='auto',max_depth=5,\n",
    "                                  criterion='mse',verbose=2,n_jobs=-1)"
   ]
  },
  {
   "cell_type": "code",
   "execution_count": 49,
   "metadata": {},
   "outputs": [
    {
     "name": "stdout",
     "output_type": "stream",
     "text": [
      "building tree 1 of 20\n",
      "building tree 2 of 20\n",
      "building tree 3 of 20\n",
      "building tree 4 of 20\n",
      "building tree 5 of 20\n",
      "building tree 6 of 20\n",
      "building tree 7 of 20building tree 8 of 20\n",
      "\n",
      "building tree 9 of 20building tree 10 of 20\n",
      "\n",
      "building tree 11 of 20building tree 12 of 20\n",
      "\n",
      "building tree 13 of 20building tree 14 of 20\n",
      "\n",
      "building tree 15 of 20\n",
      "building tree 16 of 20\n",
      "building tree 17 of 20\n",
      "building tree 18 of 20building tree 19 of 20\n",
      "\n",
      "building tree 20 of 20\n"
     ]
    },
    {
     "name": "stderr",
     "output_type": "stream",
     "text": [
      "[Parallel(n_jobs=-1)]: Using backend ThreadingBackend with 4 concurrent workers.\n",
      "[Parallel(n_jobs=-1)]: Done  20 out of  20 | elapsed:    0.0s finished\n"
     ]
    },
    {
     "data": {
      "text/plain": [
       "RandomForestRegressor(max_depth=5, n_estimators=20, n_jobs=-1, verbose=2)"
      ]
     },
     "execution_count": 49,
     "metadata": {},
     "output_type": "execute_result"
    }
   ],
   "source": [
    "model_rfr.fit(train_features, train_target)"
   ]
  },
  {
   "cell_type": "code",
   "execution_count": 50,
   "metadata": {},
   "outputs": [
    {
     "name": "stdout",
     "output_type": "stream",
     "text": [
      "      Rings  Predicted  Difference\n",
      "1363     13  13.553229    0.553229\n",
      "937      12  11.968972   -0.031028\n",
      "1777     11  10.735580   -0.264420\n",
      "3015      7   7.119142    0.119142\n",
      "2138     10   9.993825   -0.006175\n",
      "2132     11  10.322407   -0.677593\n",
      "1421      6   5.326528   -0.673472\n",
      "1690      9   9.152371    0.152371\n",
      "2952      5   5.125349    0.125349\n",
      "1228      9  11.552150    2.552150 \n",
      "\n",
      "Random Forest Regression Model training performance:\n",
      "---------------------------\n",
      "RMSE is 1.9866798172236997\n",
      "--------------------------\n"
     ]
    },
    {
     "name": "stderr",
     "output_type": "stream",
     "text": [
      "[Parallel(n_jobs=4)]: Using backend ThreadingBackend with 4 concurrent workers.\n",
      "[Parallel(n_jobs=4)]: Done  20 out of  20 | elapsed:    0.0s finished\n"
     ]
    }
   ],
   "source": [
    "# Model evaluation for training set\n",
    "train_target_pred = model_rfr.predict(train_features)\n",
    "rmse = np.sqrt(mean_squared_error(train_target, train_target_pred))\n",
    "\n",
    "# Examine the first 10 predicted output from the model\n",
    "output = pd.DataFrame(train_target[0:10])\n",
    "output['Predicted'] = train_target_pred[0:10]\n",
    "output['Difference'] = output['Predicted'] - output['Rings']\n",
    "print(output, \"\\n\")\n",
    "\n",
    "print(\"Random Forest Regression Model training performance:\")\n",
    "print(\"---------------------------\")\n",
    "print('RMSE is {}'.format(rmse))\n",
    "print(\"--------------------------\")"
   ]
  },
  {
   "cell_type": "code",
   "execution_count": 51,
   "metadata": {},
   "outputs": [
    {
     "name": "stdout",
     "output_type": "stream",
     "text": [
      "Random Forest Regression Model Cross Validation Training Set performance:\n",
      "---------------------------\n",
      "RMSE is 2.198489264504242\n",
      "--------------------------\n"
     ]
    }
   ],
   "source": [
    "MSE_CV_scores = -1*(cross_val_score(model_rfr,train_features,train_target,cv=5,scoring='neg_mean_squared_error',n_jobs = -1))\n",
    "\n",
    "RMSE_CV = ( MSE_CV_scores.mean() ) ** (1/2)\n",
    "\n",
    "print(\"Random Forest Regression Model Cross Validation Training Set performance:\")\n",
    "print(\"---------------------------\")\n",
    "print('RMSE is {}'.format(RMSE_CV))\n",
    "print(\"--------------------------\")"
   ]
  },
  {
   "cell_type": "code",
   "execution_count": 52,
   "metadata": {},
   "outputs": [
    {
     "name": "stdout",
     "output_type": "stream",
     "text": [
      "      Rings  Predicted  Difference\n",
      "3116     10  10.853684    0.853684\n",
      "110      15  11.113269   -3.886731\n",
      "2845      9   7.119220   -1.880780\n",
      "517       7   7.071270    0.071270\n",
      "340       9   8.954177   -0.045823\n",
      "1047      4   6.870165    2.870165\n",
      "1856      8   8.629024    0.629024\n",
      "1668     11  10.314270   -0.685730\n",
      "2455      5   4.853690   -0.146310\n",
      "2338      9  10.474041    1.474041 \n",
      "\n",
      "RandomForest Regression Model test performance:\n",
      "---------------------------\n",
      "RMSE is 2.219635723253081\n",
      "--------------------------\n"
     ]
    },
    {
     "name": "stderr",
     "output_type": "stream",
     "text": [
      "[Parallel(n_jobs=4)]: Using backend ThreadingBackend with 4 concurrent workers.\n",
      "[Parallel(n_jobs=4)]: Done  20 out of  20 | elapsed:    0.0s finished\n"
     ]
    }
   ],
   "source": [
    "# Model evaluation for testing set\n",
    "validation_target_pred = model_rfr.predict(validation_features)\n",
    "rmse = (np.sqrt(mean_squared_error(validation_target, validation_target_pred)))\n",
    "\n",
    "# Examine the first 10 predicted output from the model\n",
    "output = pd.DataFrame(validation_target[0:10])\n",
    "output['Predicted'] = validation_target_pred[0:10]\n",
    "output['Difference'] = output['Predicted'] - output['Rings']\n",
    "print(output, \"\\n\")\n",
    "\n",
    "print(\"RandomForest Regression Model test performance:\")\n",
    "print(\"---------------------------\")\n",
    "print('RMSE is {}'.format(rmse))\n",
    "print(\"--------------------------\")"
   ]
  },
  {
   "cell_type": "markdown",
   "metadata": {},
   "source": [
    "### HyperParameter Tuning using GridSearchCV to find the best parameters"
   ]
  },
  {
   "cell_type": "code",
   "execution_count": 53,
   "metadata": {},
   "outputs": [],
   "source": [
    "from sklearn.model_selection import GridSearchCV"
   ]
  },
  {
   "cell_type": "code",
   "execution_count": 54,
   "metadata": {},
   "outputs": [],
   "source": [
    "# Different parameters in random forest\n",
    "\n",
    "max_depth = [5,6,7,8]        # what depth to consider\n",
    "\n",
    "n_estimators = [50,60,70,75,80,90,100]       # Number of trees in random forest\n",
    "\n",
    "min_samples_leaf = [5,10,15,20,25,30,40,50]       # Number of features to consider at every split\n",
    "\n",
    "max_features = ['auto', 'sqrt', 'log2']\n",
    "\n",
    "params = {'max_depth': max_depth,\n",
    "          'n_estimators': n_estimators,\n",
    "          'min_samples_leaf': min_samples_leaf,\n",
    "           'max_features' : max_features\n",
    "          }"
   ]
  },
  {
   "cell_type": "code",
   "execution_count": 55,
   "metadata": {},
   "outputs": [],
   "source": [
    "model_gs = GridSearchCV(estimator=model_rfr, param_grid=params, n_jobs=-1)"
   ]
  },
  {
   "cell_type": "code",
   "execution_count": 56,
   "metadata": {},
   "outputs": [
    {
     "name": "stderr",
     "output_type": "stream",
     "text": [
      "[Parallel(n_jobs=-1)]: Using backend ThreadingBackend with 4 concurrent workers.\n",
      "[Parallel(n_jobs=-1)]: Done  33 tasks      | elapsed:    0.0s\n"
     ]
    },
    {
     "name": "stdout",
     "output_type": "stream",
     "text": [
      "building tree 1 of 90\n",
      "building tree 2 of 90\n",
      "building tree 3 of 90\n",
      "building tree 4 of 90\n",
      "building tree 5 of 90building tree 6 of 90\n",
      "\n",
      "building tree 7 of 90\n",
      "building tree 8 of 90\n",
      "building tree 9 of 90\n",
      "building tree 10 of 90building tree 11 of 90\n",
      "\n",
      "building tree 12 of 90\n",
      "building tree 13 of 90building tree 14 of 90\n",
      "\n",
      "building tree 15 of 90\n",
      "building tree 16 of 90\n",
      "building tree 17 of 90building tree 18 of 90\n",
      "building tree 19 of 90\n",
      "\n",
      "building tree 20 of 90\n",
      "building tree 21 of 90building tree 22 of 90\n",
      "\n",
      "building tree 23 of 90building tree 24 of 90\n",
      "\n",
      "building tree 25 of 90building tree 26 of 90\n",
      "\n",
      "building tree 27 of 90building tree 28 of 90\n",
      "\n",
      "building tree 29 of 90\n",
      "building tree 30 of 90\n",
      "building tree 31 of 90\n",
      "building tree 32 of 90\n",
      "building tree 33 of 90building tree 34 of 90\n",
      "\n",
      "building tree 35 of 90\n",
      "building tree 36 of 90\n",
      "building tree 37 of 90\n",
      "building tree 38 of 90\n",
      "building tree 39 of 90building tree 40 of 90\n",
      "\n",
      "building tree 41 of 90building tree 42 of 90building tree 43 of 90\n",
      "\n",
      "\n",
      "building tree 44 of 90\n",
      "building tree 45 of 90building tree 46 of 90\n",
      "\n",
      "building tree 47 of 90\n",
      "building tree 48 of 90\n",
      "building tree 49 of 90building tree 50 of 90\n",
      "\n",
      "building tree 51 of 90\n",
      "building tree 52 of 90\n",
      "building tree 53 of 90\n",
      "building tree 54 of 90\n",
      "building tree 55 of 90building tree 56 of 90\n",
      "\n",
      "building tree 57 of 90\n",
      "building tree 58 of 90\n",
      "building tree 59 of 90\n",
      "building tree 60 of 90\n",
      "building tree 61 of 90building tree 62 of 90\n",
      "building tree 63 of 90\n",
      "\n",
      "building tree 64 of 90\n",
      "building tree 65 of 90building tree 66 of 90building tree 67 of 90\n",
      "\n",
      "\n",
      "building tree 68 of 90building tree 69 of 90\n",
      "building tree 70 of 90\n",
      "\n",
      "building tree 71 of 90\n",
      "building tree 72 of 90\n",
      "building tree 73 of 90building tree 74 of 90\n",
      "\n",
      "building tree 75 of 90\n",
      "building tree 76 of 90building tree 77 of 90building tree 78 of 90building tree 79 of 90\n",
      "\n",
      "\n",
      "building tree 80 of 90\n",
      "\n",
      "building tree 81 of 90\n",
      "building tree 82 of 90\n",
      "building tree 83 of 90\n",
      "building tree 84 of 90\n",
      "building tree 85 of 90\n",
      "building tree 86 of 90\n",
      "building tree 87 of 90\n",
      "building tree 88 of 90\n",
      "building tree 89 of 90\n",
      "building tree 90 of 90\n"
     ]
    },
    {
     "name": "stderr",
     "output_type": "stream",
     "text": [
      "[Parallel(n_jobs=-1)]: Done  90 out of  90 | elapsed:    0.2s finished\n"
     ]
    },
    {
     "data": {
      "text/plain": [
       "GridSearchCV(estimator=RandomForestRegressor(max_depth=5, n_estimators=20,\n",
       "                                             n_jobs=-1, verbose=2),\n",
       "             n_jobs=-1,\n",
       "             param_grid={'max_depth': [5, 6, 7, 8],\n",
       "                         'max_features': ['auto', 'sqrt', 'log2'],\n",
       "                         'min_samples_leaf': [5, 10, 15, 20, 25, 30, 40, 50],\n",
       "                         'n_estimators': [50, 60, 70, 75, 80, 90, 100]})"
      ]
     },
     "execution_count": 56,
     "metadata": {},
     "output_type": "execute_result"
    }
   ],
   "source": [
    "model_gs.fit(train_features, train_target)"
   ]
  },
  {
   "cell_type": "code",
   "execution_count": 57,
   "metadata": {},
   "outputs": [
    {
     "data": {
      "text/plain": [
       "{'max_depth': 8,\n",
       " 'max_features': 'auto',\n",
       " 'min_samples_leaf': 10,\n",
       " 'n_estimators': 90}"
      ]
     },
     "execution_count": 57,
     "metadata": {},
     "output_type": "execute_result"
    }
   ],
   "source": [
    "model_gs.best_params_"
   ]
  },
  {
   "cell_type": "markdown",
   "metadata": {},
   "source": [
    "#### The final RandomForest model is created using the above parameters"
   ]
  },
  {
   "cell_type": "code",
   "execution_count": 64,
   "metadata": {},
   "outputs": [],
   "source": [
    "finalmodel_rfr = RandomForestRegressor(n_estimators = 90, max_features='auto',max_depth=8, min_samples_leaf= 10,\n",
    "                                  criterion='mse',verbose=2,n_jobs=-1)"
   ]
  },
  {
   "cell_type": "code",
   "execution_count": 65,
   "metadata": {},
   "outputs": [
    {
     "name": "stderr",
     "output_type": "stream",
     "text": [
      "[Parallel(n_jobs=-1)]: Using backend ThreadingBackend with 4 concurrent workers.\n",
      "[Parallel(n_jobs=-1)]: Done  33 tasks      | elapsed:    0.1s\n"
     ]
    },
    {
     "name": "stdout",
     "output_type": "stream",
     "text": [
      "building tree 1 of 90building tree 2 of 90\n",
      "\n",
      "building tree 3 of 90\n",
      "building tree 4 of 90\n",
      "building tree 5 of 90building tree 6 of 90\n",
      "\n",
      "building tree 7 of 90building tree 8 of 90\n",
      "\n",
      "building tree 9 of 90\n",
      "building tree 10 of 90\n",
      "building tree 11 of 90\n",
      "building tree 12 of 90\n",
      "building tree 13 of 90building tree 14 of 90\n",
      "\n",
      "building tree 15 of 90\n",
      "building tree 16 of 90\n",
      "building tree 17 of 90\n",
      "building tree 18 of 90\n",
      "building tree 19 of 90\n",
      "building tree 20 of 90\n",
      "building tree 21 of 90building tree 22 of 90\n",
      "\n",
      "building tree 23 of 90building tree 24 of 90\n",
      "\n",
      "building tree 25 of 90\n",
      "building tree 26 of 90\n",
      "building tree 27 of 90\n",
      "building tree 28 of 90building tree 29 of 90\n",
      "\n",
      "building tree 30 of 90\n",
      "building tree 31 of 90\n",
      "building tree 32 of 90\n",
      "building tree 33 of 90\n",
      "building tree 34 of 90\n",
      "building tree 35 of 90\n",
      "building tree 36 of 90\n",
      "building tree 37 of 90\n",
      "building tree 38 of 90\n",
      "building tree 39 of 90\n",
      "building tree 40 of 90\n",
      "building tree 41 of 90\n",
      "building tree 42 of 90\n",
      "building tree 43 of 90\n",
      "building tree 44 of 90building tree 45 of 90\n",
      "\n",
      "building tree 46 of 90\n",
      "building tree 47 of 90\n",
      "building tree 48 of 90\n",
      "building tree 49 of 90\n",
      "building tree 50 of 90\n",
      "building tree 51 of 90\n",
      "building tree 52 of 90\n",
      "building tree 53 of 90\n",
      "building tree 54 of 90\n",
      "building tree 55 of 90\n",
      "building tree 56 of 90\n",
      "building tree 57 of 90\n",
      "building tree 58 of 90\n",
      "building tree 59 of 90\n",
      "building tree 60 of 90\n",
      "building tree 61 of 90\n",
      "building tree 62 of 90\n",
      "building tree 63 of 90\n",
      "building tree 64 of 90\n",
      "building tree 65 of 90building tree 66 of 90\n",
      "\n",
      "building tree 67 of 90building tree 68 of 90\n",
      "\n",
      "building tree 69 of 90\n",
      "building tree 70 of 90building tree 71 of 90\n",
      "\n",
      "building tree 72 of 90\n",
      "building tree 73 of 90\n",
      "building tree 74 of 90\n",
      "building tree 75 of 90building tree 76 of 90\n",
      "\n",
      "building tree 77 of 90\n",
      "building tree 78 of 90building tree 79 of 90\n",
      "\n",
      "building tree 80 of 90\n",
      "building tree 81 of 90\n",
      "building tree 82 of 90\n",
      "building tree 83 of 90\n",
      "building tree 84 of 90\n",
      "building tree 85 of 90\n",
      "building tree 86 of 90\n",
      "building tree 87 of 90\n",
      "building tree 88 of 90\n",
      "building tree 89 of 90building tree 90 of 90\n",
      "\n"
     ]
    },
    {
     "name": "stderr",
     "output_type": "stream",
     "text": [
      "[Parallel(n_jobs=-1)]: Done  90 out of  90 | elapsed:    0.3s finished\n"
     ]
    },
    {
     "data": {
      "text/plain": [
       "RandomForestRegressor(max_depth=8, min_samples_leaf=10, n_estimators=90,\n",
       "                      n_jobs=-1, verbose=2)"
      ]
     },
     "execution_count": 65,
     "metadata": {},
     "output_type": "execute_result"
    }
   ],
   "source": [
    "finalmodel_rfr.fit(train_features, train_target)"
   ]
  },
  {
   "cell_type": "code",
   "execution_count": 69,
   "metadata": {},
   "outputs": [
    {
     "name": "stdout",
     "output_type": "stream",
     "text": [
      "      Rings  Predicted  Difference\n",
      "1363     13  14.136467    1.136467\n",
      "937      12  10.943036   -1.056964\n",
      "1777     11  11.051016    0.051016\n",
      "3015      7   7.302328    0.302328\n",
      "2138     10   9.659460   -0.340540\n",
      "2132     11  10.071559   -0.928441\n",
      "1421      6   5.213425   -0.786575\n",
      "1690      9   8.967837   -0.032163\n",
      "2952      5   5.167956    0.167956\n",
      "1228      9  10.335215    1.335215 \n",
      "\n",
      "RandomForest HyperParameter Tuned Regression Model training performance:\n",
      "---------------------------\n",
      "RMSE is 1.7763472804195002\n",
      "--------------------------\n"
     ]
    },
    {
     "name": "stderr",
     "output_type": "stream",
     "text": [
      "[Parallel(n_jobs=4)]: Using backend ThreadingBackend with 4 concurrent workers.\n",
      "[Parallel(n_jobs=4)]: Done  33 tasks      | elapsed:    0.0s\n",
      "[Parallel(n_jobs=4)]: Done  90 out of  90 | elapsed:    0.0s finished\n"
     ]
    }
   ],
   "source": [
    "# Model evaluation for testing set\n",
    "train_target_pred = finalmodel_rfr.predict(train_features)\n",
    "rmse = (np.sqrt(mean_squared_error(train_target, train_target_pred)))\n",
    "\n",
    "# Examine the first 10 predicted output from the model\n",
    "output = pd.DataFrame(train_target[0:10])\n",
    "output['Predicted'] = train_target_pred[0:10]\n",
    "output['Difference'] = output['Predicted'] - output['Rings']\n",
    "print(output, \"\\n\")\n",
    "\n",
    "print(\"RandomForest HyperParameter Tuned Regression Model training performance:\")\n",
    "print(\"---------------------------\")\n",
    "print('RMSE is {}'.format(rmse))\n",
    "print(\"--------------------------\")"
   ]
  },
  {
   "cell_type": "code",
   "execution_count": 73,
   "metadata": {},
   "outputs": [
    {
     "name": "stdout",
     "output_type": "stream",
     "text": [
      "RandomForest HyperParameter Tuned Regression Model Cross Validation Training Set performance:\n",
      "---------------------------\n",
      "RMSE is 2.118051945424234\n",
      "--------------------------\n"
     ]
    }
   ],
   "source": [
    "MSE_CV_scores = -1*(cross_val_score(finalmodel_rfr,train_features,train_target,cv=10,scoring='neg_mean_squared_error',n_jobs = -1))\n",
    "\n",
    "RMSE_CV = ( MSE_CV_scores.mean() ) ** (1/2)\n",
    "\n",
    "print(\"RandomForest HyperParameter Tuned Regression Model Cross Validation Training Set performance:\")\n",
    "print(\"---------------------------\")\n",
    "print('RMSE is {}'.format(RMSE_CV))\n",
    "print(\"--------------------------\")"
   ]
  },
  {
   "cell_type": "code",
   "execution_count": 74,
   "metadata": {
    "scrolled": true
   },
   "outputs": [
    {
     "name": "stdout",
     "output_type": "stream",
     "text": [
      "      Rings  Predicted  Difference\n",
      "3116     10  10.554592    0.554592\n",
      "110      15  10.807640   -4.192360\n",
      "2845      9   7.655411   -1.344589\n",
      "517       7   6.826221   -0.173779\n",
      "340       9  10.020626    1.020626\n",
      "1047      4   6.908130    2.908130\n",
      "1856      8   8.381648    0.381648\n",
      "1668     11   9.701406   -1.298594\n",
      "2455      5   4.847171   -0.152829\n",
      "2338      9  10.142018    1.142018 \n",
      "\n",
      "RandomForest HyperParameter Tuned Regression Model test performance:\n",
      "---------------------------\n",
      "RMSE is 2.1544089260202473\n",
      "--------------------------\n"
     ]
    },
    {
     "name": "stderr",
     "output_type": "stream",
     "text": [
      "[Parallel(n_jobs=4)]: Using backend ThreadingBackend with 4 concurrent workers.\n",
      "[Parallel(n_jobs=4)]: Done  33 tasks      | elapsed:    0.0s\n",
      "[Parallel(n_jobs=4)]: Done  90 out of  90 | elapsed:    0.0s finished\n"
     ]
    }
   ],
   "source": [
    "# Model evaluation for testing set\n",
    "validation_target_pred = finalmodel_rfr.predict(validation_features)\n",
    "rmse = (np.sqrt(mean_squared_error(validation_target, validation_target_pred)))\n",
    "\n",
    "# Examine the first 10 predicted output from the model\n",
    "output = pd.DataFrame(validation_target[0:10])\n",
    "output['Predicted'] = validation_target_pred[0:10]\n",
    "output['Difference'] = output['Predicted'] - output['Rings']\n",
    "print(output, \"\\n\")\n",
    "\n",
    "print(\"RandomForest HyperParameter Tuned Regression Model test performance:\")\n",
    "print(\"---------------------------\")\n",
    "print('RMSE is {}'.format(rmse))\n",
    "print(\"--------------------------\")"
   ]
  },
  {
   "cell_type": "markdown",
   "metadata": {},
   "source": [
    "### Training Performance got improved, but is prone to overfitting"
   ]
  },
  {
   "cell_type": "code",
   "execution_count": 85,
   "metadata": {},
   "outputs": [
    {
     "data": {
      "text/plain": [
       "<matplotlib.axes._subplots.AxesSubplot at 0x1df24c78748>"
      ]
     },
     "execution_count": 85,
     "metadata": {},
     "output_type": "execute_result"
    },
    {
     "data": {
      "image/png": "[encoded data removed]",
      "text/plain": [
       "<Figure size 720x432 with 1 Axes>"
      ]
     },
     "metadata": {},
     "output_type": "display_data"
    }
   ],
   "source": [
    "feature_importances_data = []\n",
    "features = train_features.columns\n",
    "for feature_name, feature_importance in zip(features, model_rfr.feature_importances_):\n",
    "    feature_importances_data.append({\n",
    "        'feature': feature_name,\n",
    "        'importance': feature_importance\n",
    "    })\n",
    "\n",
    "# Plot the results\n",
    "pd.DataFrame(feature_importances_data)\\\n",
    "    .set_index('feature')\\\n",
    "    .sort_values(by='importance')[-10::]\\\n",
    "    .plot(title='Top 10 most important variables',\n",
    "          kind='barh',\n",
    "          figsize=(10, 6),\n",
    "          color='#348ABD',\n",
    "          alpha=0.6,\n",
    "          lw='1',\n",
    "          edgecolor='#348ABD',\n",
    "          grid=False,)"
   ]
  },
  {
   "cell_type": "markdown",
   "metadata": {},
   "source": [
    "#### The new feature created is identified as an important feature in the model . Please explore with different new features in your model "
   ]
  },
  {
   "cell_type": "code",
   "execution_count": 79,
   "metadata": {},
   "outputs": [
    {
     "data": {
      "text/html": [
       "<div>\n",
       "<style scoped>\n",
       "    .dataframe tbody tr th:only-of-type {\n",
       "        vertical-align: middle;\n",
       "    }\n",
       "\n",
       "    .dataframe tbody tr th {\n",
       "        vertical-align: top;\n",
       "    }\n",
       "\n",
       "    .dataframe thead th {\n",
       "        text-align: right;\n",
       "    }\n",
       "</style>\n",
       "<table border=\"1\" class=\"dataframe\">\n",
       "  <thead>\n",
       "    <tr style=\"text-align: right;\">\n",
       "      <th></th>\n",
       "      <th>Length</th>\n",
       "      <th>Diameter</th>\n",
       "      <th>Height</th>\n",
       "      <th>Whole weight</th>\n",
       "      <th>Shucked weight</th>\n",
       "      <th>Viscera weight</th>\n",
       "      <th>Shell weight</th>\n",
       "      <th>is_Female</th>\n",
       "      <th>is_Male</th>\n",
       "      <th>is_Infant</th>\n",
       "      <th>Whole_Shucked_Weight</th>\n",
       "    </tr>\n",
       "  </thead>\n",
       "  <tbody>\n",
       "    <tr>\n",
       "      <th>0</th>\n",
       "      <td>0.555</td>\n",
       "      <td>0.445</td>\n",
       "      <td>0.175</td>\n",
       "      <td>1.1465</td>\n",
       "      <td>0.5510</td>\n",
       "      <td>0.2440</td>\n",
       "      <td>0.2785</td>\n",
       "      <td>1</td>\n",
       "      <td>0</td>\n",
       "      <td>0</td>\n",
       "      <td>0.5955</td>\n",
       "    </tr>\n",
       "    <tr>\n",
       "      <th>1</th>\n",
       "      <td>0.360</td>\n",
       "      <td>0.270</td>\n",
       "      <td>0.090</td>\n",
       "      <td>0.2190</td>\n",
       "      <td>0.0970</td>\n",
       "      <td>0.0405</td>\n",
       "      <td>0.0650</td>\n",
       "      <td>0</td>\n",
       "      <td>0</td>\n",
       "      <td>1</td>\n",
       "      <td>0.1220</td>\n",
       "    </tr>\n",
       "    <tr>\n",
       "      <th>2</th>\n",
       "      <td>0.395</td>\n",
       "      <td>0.320</td>\n",
       "      <td>0.100</td>\n",
       "      <td>0.3075</td>\n",
       "      <td>0.1490</td>\n",
       "      <td>0.0535</td>\n",
       "      <td>0.0900</td>\n",
       "      <td>0</td>\n",
       "      <td>0</td>\n",
       "      <td>1</td>\n",
       "      <td>0.1585</td>\n",
       "    </tr>\n",
       "    <tr>\n",
       "      <th>3</th>\n",
       "      <td>0.585</td>\n",
       "      <td>0.450</td>\n",
       "      <td>0.170</td>\n",
       "      <td>0.8685</td>\n",
       "      <td>0.3325</td>\n",
       "      <td>0.1635</td>\n",
       "      <td>0.2700</td>\n",
       "      <td>1</td>\n",
       "      <td>0</td>\n",
       "      <td>0</td>\n",
       "      <td>0.5360</td>\n",
       "    </tr>\n",
       "    <tr>\n",
       "      <th>4</th>\n",
       "      <td>0.575</td>\n",
       "      <td>0.460</td>\n",
       "      <td>0.160</td>\n",
       "      <td>1.1030</td>\n",
       "      <td>0.5380</td>\n",
       "      <td>0.2210</td>\n",
       "      <td>0.2490</td>\n",
       "      <td>1</td>\n",
       "      <td>0</td>\n",
       "      <td>0</td>\n",
       "      <td>0.5650</td>\n",
       "    </tr>\n",
       "    <tr>\n",
       "      <th>...</th>\n",
       "      <td>...</td>\n",
       "      <td>...</td>\n",
       "      <td>...</td>\n",
       "      <td>...</td>\n",
       "      <td>...</td>\n",
       "      <td>...</td>\n",
       "      <td>...</td>\n",
       "      <td>...</td>\n",
       "      <td>...</td>\n",
       "      <td>...</td>\n",
       "      <td>...</td>\n",
       "    </tr>\n",
       "    <tr>\n",
       "      <th>1039</th>\n",
       "      <td>0.270</td>\n",
       "      <td>0.190</td>\n",
       "      <td>0.080</td>\n",
       "      <td>0.0810</td>\n",
       "      <td>0.0265</td>\n",
       "      <td>0.0195</td>\n",
       "      <td>0.0300</td>\n",
       "      <td>0</td>\n",
       "      <td>0</td>\n",
       "      <td>1</td>\n",
       "      <td>0.0545</td>\n",
       "    </tr>\n",
       "    <tr>\n",
       "      <th>1040</th>\n",
       "      <td>0.520</td>\n",
       "      <td>0.395</td>\n",
       "      <td>0.115</td>\n",
       "      <td>0.6445</td>\n",
       "      <td>0.3155</td>\n",
       "      <td>0.1245</td>\n",
       "      <td>0.1860</td>\n",
       "      <td>0</td>\n",
       "      <td>0</td>\n",
       "      <td>1</td>\n",
       "      <td>0.3290</td>\n",
       "    </tr>\n",
       "    <tr>\n",
       "      <th>1041</th>\n",
       "      <td>0.480</td>\n",
       "      <td>0.355</td>\n",
       "      <td>0.110</td>\n",
       "      <td>0.4495</td>\n",
       "      <td>0.2010</td>\n",
       "      <td>0.0890</td>\n",
       "      <td>0.1400</td>\n",
       "      <td>0</td>\n",
       "      <td>0</td>\n",
       "      <td>1</td>\n",
       "      <td>0.2485</td>\n",
       "    </tr>\n",
       "    <tr>\n",
       "      <th>1042</th>\n",
       "      <td>0.665</td>\n",
       "      <td>0.520</td>\n",
       "      <td>0.175</td>\n",
       "      <td>1.3725</td>\n",
       "      <td>0.6060</td>\n",
       "      <td>0.3200</td>\n",
       "      <td>0.3950</td>\n",
       "      <td>0</td>\n",
       "      <td>1</td>\n",
       "      <td>0</td>\n",
       "      <td>0.7665</td>\n",
       "    </tr>\n",
       "    <tr>\n",
       "      <th>1043</th>\n",
       "      <td>0.530</td>\n",
       "      <td>0.415</td>\n",
       "      <td>0.110</td>\n",
       "      <td>0.5745</td>\n",
       "      <td>0.2525</td>\n",
       "      <td>0.1235</td>\n",
       "      <td>0.1890</td>\n",
       "      <td>0</td>\n",
       "      <td>0</td>\n",
       "      <td>1</td>\n",
       "      <td>0.3220</td>\n",
       "    </tr>\n",
       "  </tbody>\n",
       "</table>\n",
       "<p>1044 rows × 11 columns</p>\n",
       "</div>"
      ],
      "text/plain": [
       "      Length  Diameter  Height  Whole weight  Shucked weight  Viscera weight  \\\n",
       "0      0.555     0.445   0.175        1.1465          0.5510          0.2440   \n",
       "1      0.360     0.270   0.090        0.2190          0.0970          0.0405   \n",
       "2      0.395     0.320   0.100        0.3075          0.1490          0.0535   \n",
       "3      0.585     0.450   0.170        0.8685          0.3325          0.1635   \n",
       "4      0.575     0.460   0.160        1.1030          0.5380          0.2210   \n",
       "...      ...       ...     ...           ...             ...             ...   \n",
       "1039   0.270     0.190   0.080        0.0810          0.0265          0.0195   \n",
       "1040   0.520     0.395   0.115        0.6445          0.3155          0.1245   \n",
       "1041   0.480     0.355   0.110        0.4495          0.2010          0.0890   \n",
       "1042   0.665     0.520   0.175        1.3725          0.6060          0.3200   \n",
       "1043   0.530     0.415   0.110        0.5745          0.2525          0.1235   \n",
       "\n",
       "      Shell weight  is_Female  is_Male  is_Infant  Whole_Shucked_Weight  \n",
       "0           0.2785          1        0          0                0.5955  \n",
       "1           0.0650          0        0          1                0.1220  \n",
       "2           0.0900          0        0          1                0.1585  \n",
       "3           0.2700          1        0          0                0.5360  \n",
       "4           0.2490          1        0          0                0.5650  \n",
       "...            ...        ...      ...        ...                   ...  \n",
       "1039        0.0300          0        0          1                0.0545  \n",
       "1040        0.1860          0        0          1                0.3290  \n",
       "1041        0.1400          0        0          1                0.2485  \n",
       "1042        0.3950          0        1          0                0.7665  \n",
       "1043        0.1890          0        0          1                0.3220  \n",
       "\n",
       "[1044 rows x 11 columns]"
      ]
     },
     "execution_count": 79,
     "metadata": {},
     "output_type": "execute_result"
    }
   ],
   "source": [
    "test_data = test_data.drop('Sex',axis=1)\n",
    "\n",
    "test_data"
   ]
  },
  {
   "cell_type": "code",
   "execution_count": 81,
   "metadata": {},
   "outputs": [],
   "source": [
    "test_features = test_data"
   ]
  },
  {
   "cell_type": "code",
   "execution_count": 82,
   "metadata": {},
   "outputs": [
    {
     "name": "stderr",
     "output_type": "stream",
     "text": [
      "[Parallel(n_jobs=4)]: Using backend ThreadingBackend with 4 concurrent workers.\n",
      "[Parallel(n_jobs=4)]: Done  33 tasks      | elapsed:    0.0s\n",
      "[Parallel(n_jobs=4)]: Done  90 out of  90 | elapsed:    0.0s finished\n"
     ]
    }
   ],
   "source": [
    "target = finalmodel_rfr.predict(test_features)"
   ]
  },
  {
   "cell_type": "code",
   "execution_count": 83,
   "metadata": {},
   "outputs": [
    {
     "data": {
      "text/plain": [
       "array([ 9.68299606,  6.64753325,  7.17597433, ...,  8.26508777,\n",
       "       10.84813692,  8.36760511])"
      ]
     },
     "execution_count": 83,
     "metadata": {},
     "output_type": "execute_result"
    }
   ],
   "source": [
    "target"
   ]
  },
  {
   "cell_type": "code",
   "execution_count": 84,
   "metadata": {},
   "outputs": [],
   "source": [
    "res = pd.DataFrame(target)\n",
    "res.index = test_data.index \n",
    "res.columns = [\"prediction\"]\n",
    "res.to_csv(\"submission_rfr.csv\")  "
   ]
  },
  {
   "cell_type": "markdown",
   "metadata": {},
   "source": [
    "### Feel free to edit the notebook and improve your model"
   ]
  },
  {
   "cell_type": "markdown",
   "metadata": {},
   "source": [
    "### Happy Learning !!!"
   ]
  },
  {
   "cell_type": "code",
   "execution_count": null,
   "metadata": {},
   "outputs": [],
   "source": []
  }
 ],
 "metadata": {
  "kernelspec": {
   "display_name": "Python 3",
   "language": "python",
   "name": "python3"
  },
  "language_info": {
   "codemirror_mode": {
    "name": "ipython",
    "version": 3
   },
   "file_extension": ".py",
   "mimetype": "text/x-python",
   "name": "python",
   "nbconvert_exporter": "python",
   "pygments_lexer": "ipython3",
   "version": "3.7.7"
  }
 },
 "nbformat": 4,
 "nbformat_minor": 4
}
